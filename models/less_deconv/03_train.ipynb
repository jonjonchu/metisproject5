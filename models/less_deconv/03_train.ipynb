{
 "cells": [
  {
   "cell_type": "markdown",
   "metadata": {},
   "source": [
    "# Training Time"
   ]
  },
  {
   "cell_type": "code",
   "execution_count": 17,
   "metadata": {
    "ExecuteTime": {
     "end_time": "2020-06-15T16:06:12.076539Z",
     "start_time": "2020-06-15T16:06:12.047621Z"
    }
   },
   "outputs": [],
   "source": [
    "import glob\n",
    "from pprint import pprint\n",
    "import pickle\n",
    "import re\n",
    "import sys\n",
    "\n",
    "import numpy as np\n",
    "import tensorflow as tf\n",
    "from tensorflow.keras import layers\n",
    "from tensorflow.keras import backend as K\n",
    "\n",
    "sys.path.insert(0, \"/home/jupyter/metisproject5/notebooks/\")\n",
    "from slice_generator import SliceGenerator"
   ]
  },
  {
   "cell_type": "code",
   "execution_count": null,
   "metadata": {
    "ExecuteTime": {
     "end_time": "2020-06-15T16:06:13.284414Z",
     "start_time": "2020-06-15T16:06:13.277779Z"
    }
   },
   "outputs": [],
   "source": [
    "print(\"tensorflow version:\",tf.__version__)"
   ]
  },
  {
   "cell_type": "markdown",
   "metadata": {},
   "source": [
    "## Model variables"
   ]
  },
  {
   "cell_type": "code",
   "execution_count": 2,
   "metadata": {
    "ExecuteTime": {
     "end_time": "2020-06-15T16:06:15.516904Z",
     "start_time": "2020-06-15T16:06:15.505686Z"
    }
   },
   "outputs": [],
   "source": [
    "frames = 1\n",
    "channels = 1\n",
    "pixels_x = 21\n",
    "pixels_y = 21"
   ]
  },
  {
   "cell_type": "markdown",
   "metadata": {},
   "source": [
    "## get and save the pwd"
   ]
  },
  {
   "cell_type": "code",
   "execution_count": 3,
   "metadata": {},
   "outputs": [
    {
     "name": "stdout",
     "output_type": "stream",
     "text": [
      "available models:\n",
      "['.ipynb_checkpoints', '.less_deconv_24F.h5']\n"
     ]
    }
   ],
   "source": [
    "model_dir = \".\"\n",
    "models_avail = sorted(glob.glob(model_dir+\"*\"))\n",
    "print(\"available models:\")\n",
    "pprint(models_avail)"
   ]
  },
  {
   "cell_type": "code",
   "execution_count": 26,
   "metadata": {
    "ExecuteTime": {
     "end_time": "2020-06-15T16:06:17.551021Z",
     "start_time": "2020-06-15T16:06:17.527128Z"
    }
   },
   "outputs": [
    {
     "name": "stdout",
     "output_type": "stream",
     "text": [
      "Files in folder:\n",
      "['./02_lessdeconv.ipynb', './03_train.ipynb', './04_extract_prediction.ipynb']\n"
     ]
    }
   ],
   "source": [
    "model_folder = \"/\"\n",
    "pwd = model_dir+model_folder\n",
    "file_list = sorted(glob.glob(pwd+\"*\"))\n",
    "print(\"Files in folder:\")\n",
    "pprint(file_list)"
   ]
  },
  {
   "cell_type": "markdown",
   "metadata": {},
   "source": [
    "## Find and load model"
   ]
  },
  {
   "cell_type": "code",
   "execution_count": 6,
   "metadata": {
    "ExecuteTime": {
     "end_time": "2020-06-15T16:06:17.789615Z",
     "start_time": "2020-06-15T16:06:17.784870Z"
    }
   },
   "outputs": [
    {
     "name": "stdout",
     "output_type": "stream",
     "text": [
      "Loading... \n",
      "WARNING:tensorflow:No training configuration found in the save file, so the model was *not* compiled. Compile it manually.\n",
      "Loading done for .less_deconv_24F\n"
     ]
    }
   ],
   "source": [
    "# choose a model\n",
    "models=[]\n",
    "for file in file_list:\n",
    "    match = re.search(\"\\.h5$\", file)\n",
    "    if match:\n",
    "        models.append(file)\n",
    "\n",
    "assert len(models) > 0, \"Hmm, can't seem to find any model files ending in .h5 in \"+pwd\n",
    "if len(models) > 1:\n",
    "    print(\"There are more than one models in the directory.\\nLoading the first.\\n\", models)\n",
    "print(\"Loading... \")\n",
    "model = tf.keras.models.load_model(models[0])\n",
    "\n",
    "model_name = re.search(\"[^/]*(?=\\.[^.]+($|\\?))\", models[0]).__getitem__(0)\n",
    "print(\"Loading done for\",model_name)"
   ]
  },
  {
   "cell_type": "code",
   "execution_count": 7,
   "metadata": {},
   "outputs": [],
   "source": [
    "# model_name += \"_\"+loss_func_name\n",
    "# model_name"
   ]
  },
  {
   "cell_type": "markdown",
   "metadata": {},
   "source": [
    "# Loss, Learning Rate, Optimizer"
   ]
  },
  {
   "cell_type": "markdown",
   "metadata": {},
   "source": [
    "## Loss\n",
    "Define a custom loss function. Here it's SSE"
   ]
  },
  {
   "cell_type": "code",
   "execution_count": 7,
   "metadata": {},
   "outputs": [],
   "source": [
    "loss_func_name = \"SSE\"\n",
    "def sum_sq_err(y_true, y_pred):\n",
    "    return K.sum( K.square(y_true - y_pred), axis=1)\n",
    "class SumSquaredError(tf.keras.losses.Loss):\n",
    "    def __init__():\n",
    "        self.name = \"SSE\"\n",
    "    def call(self, y_true, y_pred):\n",
    "#         y_pred = ops.convert_to_tensor_v2(y_pred)\n",
    "#         y_true = math_ops.cast(y_true, y_pred.dtype)\n",
    "        return K.sum( K.square(y_true - y_pred), axis=1)"
   ]
  },
  {
   "cell_type": "markdown",
   "metadata": {},
   "source": [
    "## lr\n",
    "Define a Learning rate schedule."
   ]
  },
  {
   "cell_type": "code",
   "execution_count": 8,
   "metadata": {},
   "outputs": [],
   "source": [
    "lr = 0.01\n",
    "# lr = tf.keras.optimizers.schedules.ExponentialDecay(\n",
    "#     initial_learning_rate = 1./3.1415,\n",
    "#     decay_steps = 1,\n",
    "#     decay_rate = 0.367,\n",
    "#     staircase=False,\n",
    "#     name=\"inversePi_e_inverse7\"\n",
    "# )"
   ]
  },
  {
   "cell_type": "markdown",
   "metadata": {},
   "source": [
    "## optimizer\n",
    "Define an optimizer. Must set ```clipnorm``` to prevent wild things from happening"
   ]
  },
  {
   "cell_type": "code",
   "execution_count": 9,
   "metadata": {},
   "outputs": [],
   "source": [
    "opt = tf.keras.optimizers.SGD(\n",
    "    learning_rate=0.01,\n",
    "    momentum=0.9,\n",
    "    nesterov=False,\n",
    "    name='SGD',\n",
    "    clipnorm=1.0,\n",
    ")\n",
    "# tf.keras.optimizers.Adam(learning_rate=lr,\n",
    "#                                beta_1=0.9,\n",
    "#                                beta_2=0.999,\n",
    "#                                epsilon=1e-07,\n",
    "#                                amsgrad=False,\n",
    "#                                name='Adam',\n",
    "#                                clipnorm=1.0)"
   ]
  },
  {
   "cell_type": "markdown",
   "metadata": {},
   "source": [
    "# Compile the Model"
   ]
  },
  {
   "cell_type": "code",
   "execution_count": 10,
   "metadata": {},
   "outputs": [
    {
     "name": "stdout",
     "output_type": "stream",
     "text": [
      "Compiling .less_deconv_24F ...\n",
      "Compiled.\n"
     ]
    }
   ],
   "source": [
    "print(\"Compiling\", model_name,\"...\")\n",
    "model.compile(\n",
    "    loss=sum_sq_err,\n",
    "    optimizer=opt,\n",
    "    metrics=['mean_absolute_error'])\n",
    "print(\"Compiled.\")"
   ]
  },
  {
   "cell_type": "markdown",
   "metadata": {},
   "source": [
    "# Prepare for training, callbacks\n",
    "Get paths to training and validation sets, and number of steps"
   ]
  },
  {
   "cell_type": "code",
   "execution_count": 12,
   "metadata": {
    "ExecuteTime": {
     "end_time": "2020-06-15T16:06:19.687719Z",
     "start_time": "2020-06-15T16:06:19.677223Z"
    }
   },
   "outputs": [],
   "source": [
    "train_file_path = \"../../data/train\"\n",
    "valid_file_path = \"../../data/validate\"\n",
    "vars_           = ['t2m']\n",
    "proc_type       = \"convlstm\"\n",
    "# 3 years of training data = \n",
    "train_steps = 3 * 365 * 24 / frames\n",
    "# 1 year of validation data = \n",
    "valid_steps = 1 * 365 * 24 / frames"
   ]
  },
  {
   "cell_type": "markdown",
   "metadata": {},
   "source": [
    "## callbacks\n",
    "Define callbacks to periodically save the model, stop early, write logs to tensorboard, and stream loss metrics to a csv file"
   ]
  },
  {
   "cell_type": "code",
   "execution_count": 13,
   "metadata": {},
   "outputs": [],
   "source": [
    "callbacks = [\n",
    "    tf.keras.callbacks.ModelCheckpoint(\n",
    "        filepath=pwd+model_name+\".h5\", \n",
    "        monitor='val_loss',\n",
    "        verbose=1,\n",
    "        save_best_only=True,\n",
    "        save_weights_only=False,\n",
    "        mode='auto',\n",
    "        save_freq='epoch',\n",
    "    ),\n",
    "    tf.keras.callbacks.EarlyStopping(\n",
    "        # Stop training when `val_loss` is no longer improving\n",
    "        monitor=\"val_loss\",\n",
    "        # \"no longer improving\" being defined as \"no better than 1e-2 less\"\n",
    "        min_delta=1e-2,\n",
    "        # \"no longer improving\" being further defined as \"for at least 1 epochs\"\n",
    "        patience=1,\n",
    "        verbose=1,\n",
    "    ),\n",
    "    tf.keras.callbacks.CSVLogger(\n",
    "        filename=pwd+\"log.log\",\n",
    "        separator=',',\n",
    "        append=True\n",
    "    ),\n",
    "]"
   ]
  },
  {
   "cell_type": "markdown",
   "metadata": {},
   "source": [
    "# Train and save"
   ]
  },
  {
   "cell_type": "code",
   "execution_count": 14,
   "metadata": {
    "ExecuteTime": {
     "end_time": "2020-06-15T16:06:20.382027Z",
     "start_time": "2020-06-15T16:06:20.373946Z"
    }
   },
   "outputs": [],
   "source": [
    "epochs = 1"
   ]
  },
  {
   "cell_type": "code",
   "execution_count": null,
   "metadata": {
    "ExecuteTime": {
     "end_time": "2020-06-15T16:06:21.086974Z",
     "start_time": "2020-06-15T16:06:20.731688Z"
    }
   },
   "outputs": [
    {
     "name": "stdout",
     "output_type": "stream",
     "text": [
      "13028/26280 [=============>................] - ETA: 11:14 - loss: 24.7694 - mean_absolute_error: 3.5836"
     ]
    }
   ],
   "source": [
    "model.fit(\n",
    "    SliceGenerator(img_dir=train_file_path, slice_size=frames, \n",
    "                    vars_=vars_, proc_type=proc_type,\n",
    "                    pixels_x=pixels_x, pixels_y=pixels_y, debug=False\n",
    "                    ),\n",
    "    steps_per_epoch = train_steps,\n",
    "    epochs = epochs,\n",
    "    verbose = 1,\n",
    "    shuffle = False,\n",
    "    callbacks=callbacks,\n",
    "    validation_steps = valid_steps,\n",
    "    validation_data = SliceGenerator(img_dir=valid_file_path, slice_size=frames,\n",
    "                                      vars_=vars_, proc_type=proc_type,\n",
    "                                      pixels_x=pixels_x, pixels_y=pixels_y, debug=False\n",
    "                                      ),\n",
    ")\n",
    "\n",
    "tf.keras.models.save_model(\n",
    "        model = model,\n",
    "        filepath = pwd+model_name+'.h5',\n",
    "        overwrite=True,\n",
    "        include_optimizer=True,\n",
    "        save_format='tf',\n",
    "        signatures=None\n",
    ")\n"
   ]
  },
  {
   "cell_type": "markdown",
   "metadata": {},
   "source": [
    "## Save the model\n",
    "Store history, save plot of loss"
   ]
  },
  {
   "cell_type": "code",
   "execution_count": 31,
   "metadata": {},
   "outputs": [
    {
     "name": "stdout",
     "output_type": "stream",
     "text": [
      "./.less_deconv_24F.h5\n",
      "./\n"
     ]
    }
   ],
   "source": [
    "print(pwd+model_name+'.h5'\n",
    "      \n",
    ")\n",
    "print(pwd)"
   ]
  },
  {
   "cell_type": "code",
   "execution_count": 28,
   "metadata": {},
   "outputs": [],
   "source": [
    "tf.keras.models.save_model(\n",
    "        model = model,\n",
    "        filepath = pwd+model_name+'.h5',\n",
    "        overwrite=True,\n",
    "        include_optimizer=True,\n",
    "        save_format='tf',\n",
    "        signatures=None\n",
    ")"
   ]
  },
  {
   "cell_type": "markdown",
   "metadata": {},
   "source": [
    "## Store the history!"
   ]
  },
  {
   "cell_type": "code",
   "execution_count": 17,
   "metadata": {},
   "outputs": [],
   "source": [
    "model_history = model.history.history"
   ]
  },
  {
   "cell_type": "code",
   "execution_count": 27,
   "metadata": {},
   "outputs": [
    {
     "name": "stdout",
     "output_type": "stream",
     "text": [
      "model history:\n"
     ]
    },
    {
     "ename": "NameError",
     "evalue": "name 'model_history' is not defined",
     "output_type": "error",
     "traceback": [
      "\u001b[0;31m---------------------------------------------------------------------------\u001b[0m",
      "\u001b[0;31mNameError\u001b[0m                                 Traceback (most recent call last)",
      "\u001b[0;32m<ipython-input-27-f4563df5b213>\u001b[0m in \u001b[0;36m<module>\u001b[0;34m\u001b[0m\n\u001b[1;32m      1\u001b[0m \u001b[0mprint\u001b[0m\u001b[0;34m(\u001b[0m\u001b[0;34m\"model history:\"\u001b[0m\u001b[0;34m)\u001b[0m\u001b[0;34m\u001b[0m\u001b[0;34m\u001b[0m\u001b[0m\n\u001b[0;32m----> 2\u001b[0;31m \u001b[0mpprint\u001b[0m\u001b[0;34m(\u001b[0m\u001b[0mmodel_history\u001b[0m\u001b[0;34m)\u001b[0m\u001b[0;34m\u001b[0m\u001b[0;34m\u001b[0m\u001b[0m\n\u001b[0m\u001b[1;32m      3\u001b[0m \u001b[0mpickle\u001b[0m\u001b[0;34m.\u001b[0m\u001b[0mdump\u001b[0m\u001b[0;34m(\u001b[0m\u001b[0mmodel_history\u001b[0m\u001b[0;34m,\u001b[0m \u001b[0mopen\u001b[0m\u001b[0;34m(\u001b[0m\u001b[0mpwd\u001b[0m\u001b[0;34m+\u001b[0m\u001b[0mmodel_name\u001b[0m\u001b[0;34m+\u001b[0m\u001b[0;34m\"_hist.pkl\"\u001b[0m\u001b[0;34m,\u001b[0m \u001b[0;34m\"wb\"\u001b[0m\u001b[0;34m)\u001b[0m\u001b[0;34m)\u001b[0m\u001b[0;34m\u001b[0m\u001b[0;34m\u001b[0m\u001b[0m\n\u001b[1;32m      4\u001b[0m \u001b[0mprint\u001b[0m\u001b[0;34m(\u001b[0m\u001b[0;34m\"Model history saved to:\"\u001b[0m\u001b[0;34m,\u001b[0m\u001b[0mpwd\u001b[0m\u001b[0;34m+\u001b[0m\u001b[0mmodel_name\u001b[0m\u001b[0;34m+\u001b[0m\u001b[0;34m\"_hist.pkl\"\u001b[0m\u001b[0;34m)\u001b[0m\u001b[0;34m\u001b[0m\u001b[0;34m\u001b[0m\u001b[0m\n",
      "\u001b[0;31mNameError\u001b[0m: name 'model_history' is not defined"
     ]
    }
   ],
   "source": [
    "print(\"model history:\")\n",
    "pprint(model_history)\n",
    "pickle.dump(model_history, open(pwd+model_name+\"_hist.pkl\", \"wb\"))\n",
    "print(\"Model history saved to:\",pwd+model_name+\"_hist.pkl\")"
   ]
  },
  {
   "cell_type": "markdown",
   "metadata": {},
   "source": [
    "## Plot loss over epochs"
   ]
  },
  {
   "cell_type": "code",
   "execution_count": 21,
   "metadata": {},
   "outputs": [
    {
     "ename": "NameError",
     "evalue": "name 'model_history' is not defined",
     "output_type": "error",
     "traceback": [
      "\u001b[0;31m---------------------------------------------------------------------------\u001b[0m",
      "\u001b[0;31mNameError\u001b[0m                                 Traceback (most recent call last)",
      "\u001b[0;32m<ipython-input-21-0c7446941ab7>\u001b[0m in \u001b[0;36m<module>\u001b[0;34m\u001b[0m\n\u001b[1;32m      1\u001b[0m \u001b[0;32mimport\u001b[0m \u001b[0mmatplotlib\u001b[0m\u001b[0;34m.\u001b[0m\u001b[0mpyplot\u001b[0m \u001b[0;32mas\u001b[0m \u001b[0mplt\u001b[0m\u001b[0;34m\u001b[0m\u001b[0;34m\u001b[0m\u001b[0m\n\u001b[1;32m      2\u001b[0m \u001b[0;34m\u001b[0m\u001b[0m\n\u001b[0;32m----> 3\u001b[0;31m \u001b[0mtrain_loss\u001b[0m \u001b[0;34m=\u001b[0m \u001b[0mmodel_history\u001b[0m\u001b[0;34m[\u001b[0m\u001b[0;34m\"loss\"\u001b[0m\u001b[0;34m]\u001b[0m\u001b[0;34m\u001b[0m\u001b[0;34m\u001b[0m\u001b[0m\n\u001b[0m\u001b[1;32m      4\u001b[0m \u001b[0mval_loss\u001b[0m \u001b[0;34m=\u001b[0m \u001b[0mmodel_history\u001b[0m\u001b[0;34m[\u001b[0m\u001b[0;34m\"val_loss\"\u001b[0m\u001b[0;34m]\u001b[0m\u001b[0;34m\u001b[0m\u001b[0;34m\u001b[0m\u001b[0m\n\u001b[1;32m      5\u001b[0m \u001b[0mplt\u001b[0m\u001b[0;34m.\u001b[0m\u001b[0mfigure\u001b[0m\u001b[0;34m(\u001b[0m\u001b[0mfigsize\u001b[0m\u001b[0;34m=\u001b[0m\u001b[0;34m(\u001b[0m\u001b[0;36m8\u001b[0m\u001b[0;34m,\u001b[0m \u001b[0;36m5\u001b[0m\u001b[0;34m)\u001b[0m\u001b[0;34m)\u001b[0m\u001b[0;34m\u001b[0m\u001b[0;34m\u001b[0m\u001b[0m\n",
      "\u001b[0;31mNameError\u001b[0m: name 'model_history' is not defined"
     ]
    }
   ],
   "source": [
    "import matplotlib.pyplot as plt\n",
    "\n",
    "train_loss = model_history[\"loss\"]\n",
    "val_loss = model_history[\"val_loss\"]\n",
    "plt.figure(figsize=(8, 5))\n",
    "plt.title(\"Training vs. Validation Loss\")\n",
    "plt.plot(train_loss, label=\"Training Loss\")\n",
    "plt.plot(val_loss, label=\"Validation Loss\")\n",
    "plt.xlabel(\"Number of Epochs\", size=14)\n",
    "plt.legend()\n",
    "plt.show()\n",
    "plt.savefig(pwd+model_name+\"_loss.png\",transparent=True, format=\"png\")"
   ]
  },
  {
   "cell_type": "markdown",
   "metadata": {},
   "source": [
    "## Visually Inspect Prediction"
   ]
  },
  {
   "cell_type": "code",
   "execution_count": 22,
   "metadata": {
    "ExecuteTime": {
     "end_time": "2020-06-15T16:06:20.106368Z",
     "start_time": "2020-06-15T16:06:19.874866Z"
    }
   },
   "outputs": [],
   "source": [
    "slice_val = SliceGenerator(img_dir=train_file_path, slice_size=frames, vars_=vars_,\n",
    "                     proc_type=proc_type, pixels_x=pixels_x, pixels_y=pixels_y, debug=False\n",
    "                     )"
   ]
  },
  {
   "cell_type": "code",
   "execution_count": 23,
   "metadata": {
    "ExecuteTime": {
     "end_time": "2020-06-15T15:56:54.502318Z",
     "start_time": "2020-06-15T15:56:54.472843Z"
    },
    "collapsed": true,
    "jupyter": {
     "outputs_hidden": true
    }
   },
   "outputs": [
    {
     "data": {
      "text/plain": [
       "array([[[[283.6044 , 283.62558, 283.63556, 283.03384, 283.1821 ,\n",
       "          282.90118, 281.11227, 277.90506, 276.03955, 277.31894,\n",
       "          281.29352, 282.79776, 282.401  , 278.17853, 273.87567,\n",
       "          270.05182, 269.29565, 268.20187, 267.5653 , 267.3093 ,\n",
       "          267.73535],\n",
       "         [283.5826 , 283.4792 , 283.71777, 283.3291 , 283.2232 ,\n",
       "          283.61996, 282.5181 , 279.49902, 276.1143 , 278.43637,\n",
       "          281.12784, 283.40695, 284.26028, 282.29385, 278.58276,\n",
       "          274.04758, 270.36017, 268.43796, 267.14923, 267.1274 ,\n",
       "          268.24298],\n",
       "         [283.6704 , 283.57324, 283.48917, 283.53027, 283.7408 ,\n",
       "          284.11392, 282.97342, 281.36765, 279.68213, 278.86618,\n",
       "          280.8407 , 283.14532, 284.7779 , 284.3855 , 282.657  ,\n",
       "          280.15305, 275.53378, 271.1101 , 267.38715, 265.74463,\n",
       "          266.08658],\n",
       "         [283.6804 , 283.6804 , 283.40134, 283.5533 , 283.8679 ,\n",
       "          284.51816, 283.53775, 282.3599 , 281.37762, 279.6728 ,\n",
       "          281.09045, 282.80338, 284.45963, 284.34625, 283.866  ,\n",
       "          282.16867, 279.77432, 274.89908, 270.48535, 266.37933,\n",
       "          265.8798 ],\n",
       "         [283.6567 , 283.7078 , 283.577  , 283.62994, 283.42252,\n",
       "          283.3403 , 283.29733, 283.45367, 282.77036, 281.22314,\n",
       "          281.16895, 282.55173, 284.0161 , 284.55365, 284.08463,\n",
       "          283.14346, 281.8348 , 277.82285, 273.36182, 267.6002 ,\n",
       "          265.8935 ],\n",
       "         [283.5963 , 283.63556, 283.62372, 283.70407, 283.4985 ,\n",
       "          283.46738, 282.89743, 283.12167, 283.91458, 282.90677,\n",
       "          282.66696, 282.65326, 283.73334, 284.33255, 284.1469 ,\n",
       "          283.22507, 282.15497, 280.4402 , 276.13174, 269.35046,\n",
       "          265.62753],\n",
       "         [283.59256, 283.6804 , 283.75266, 283.80746, 283.7763 ,\n",
       "          283.84048, 283.30728, 284.10208, 284.9224 , 284.122  ,\n",
       "          283.78192, 283.76822, 283.9345 , 283.9987 , 283.81305,\n",
       "          283.278  , 282.3194 , 280.63327, 278.55908, 272.92267,\n",
       "          268.4853 ],\n",
       "         [283.643  , 283.7271 , 283.87347, 283.91272, 283.83673,\n",
       "          283.81494, 283.74518, 284.3699 , 284.82523, 284.48328,\n",
       "          284.6197 , 284.35248, 284.20798, 283.97314, 283.81305,\n",
       "          283.36398, 282.5318 , 281.47168, 279.92816, 276.51855,\n",
       "          271.6358 ],\n",
       "         [283.71155, 283.79935, 284.03418, 284.16312, 284.02423,\n",
       "          283.8112 , 283.62558, 283.5963 , 283.73334, 284.32507,\n",
       "          284.3936 , 284.198  , 283.9501 , 283.62183, 283.5396 ,\n",
       "          283.2369 , 282.9971 , 282.30322, 280.7859 , 278.86618,\n",
       "          275.70007],\n",
       "         [283.86227, 283.95383, 284.09647, 284.18243, 284.10208,\n",
       "          283.8056 , 283.59442, 283.5552 , 283.74704, 283.61624,\n",
       "          283.985  , 284.09088, 283.1528 , 282.2646 , 282.35614,\n",
       "          283.09613, 283.49292, 283.21387, 282.6626 , 280.95218,\n",
       "          278.3037 ],\n",
       "         [283.89716, 284.04974, 284.18616, 284.2036 , 284.04166,\n",
       "          283.643  , 283.44992, 283.44244, 283.63556, 283.3777 ,\n",
       "          283.79   , 284.04352, 283.11606, 281.43616, 281.20758,\n",
       "          282.10452, 283.71155, 283.8037 , 283.59256, 282.9541 ,\n",
       "          281.54205],\n",
       "         [284.05722, 284.08838, 284.13385, 284.0946 , 283.91458,\n",
       "          283.70966, 283.5396 , 283.47546, 283.577  , 283.47546,\n",
       "          284.06345, 284.56924, 284.11392, 283.0924 , 282.4658 ,\n",
       "          282.70184, 284.0728 , 284.19427, 284.08838, 283.71964,\n",
       "          282.97156],\n",
       "         [284.10645, 284.14133, 284.1469 , 284.0809 , 283.84235,\n",
       "          283.78564, 283.61996, 283.51035, 283.5689 , 283.8442 ,\n",
       "          283.8604 , 283.97128, 284.5381 , 285.28616, 284.23288,\n",
       "          282.89557, 282.94415, 283.91458, 284.39545, 284.24658,\n",
       "          284.15128],\n",
       "         [284.21732, 284.17245, 284.1569 , 284.0672 , 283.9071 ,\n",
       "          283.79935, 283.72525, 283.66296, 283.61996, 283.78564,\n",
       "          283.98312, 284.2877 , 284.53   , 285.10617, 284.4677 ,\n",
       "          283.33096, 281.85223, 282.46143, 283.46738, 284.7567 ,\n",
       "          284.8701 ],\n",
       "         [284.3095 , 284.27835, 284.16687, 284.06345, 283.9912 ,\n",
       "          283.81305, 283.74518, 283.77008, 283.79935, 283.83487,\n",
       "          284.04788, 284.3425 , 283.8442 , 283.8816 , 283.58072,\n",
       "          284.01425, 283.0108 , 282.52808, 283.22757, 284.52252,\n",
       "          285.4967 ],\n",
       "         [284.39108, 284.36618, 284.25656, 284.15875, 284.07904,\n",
       "          283.9345 , 283.84857, 283.8716 , 283.97128, 283.9364 ,\n",
       "          284.1469 , 284.3936 , 284.06158, 283.52032, 284.0672 ,\n",
       "          284.51254, 284.85202, 283.1665 , 283.8442 , 284.60413,\n",
       "          285.87976],\n",
       "         [284.49884, 284.45963, 284.4048 , 284.30762, 284.2036 ,\n",
       "          284.1357 , 284.04974, 284.02048, 284.10394, 284.1083 ,\n",
       "          284.18616, 284.4322 , 284.86386, 284.0124 , 284.56113,\n",
       "          285.16846, 285.82123, 284.2821 , 283.63556, 284.3973 ,\n",
       "          285.5752 ],\n",
       "         [284.62155, 284.5518 , 284.5026 , 284.50632, 284.4185 ,\n",
       "          284.34625, 284.28955, 284.26837, 284.28955, 284.38736,\n",
       "          284.43655, 284.47144, 285.06503, 284.78412, 285.1373 ,\n",
       "          285.61194, 286.27405, 285.47552, 284.66455, 283.68225,\n",
       "          284.46585],\n",
       "         [284.73306, 284.6608 , 284.64896, 284.65894, 284.7156 ,\n",
       "          284.63776, 284.5848 , 284.5948 , 284.60785, 284.77042,\n",
       "          284.93237, 284.99094, 284.87195, 285.29178, 285.5204 ,\n",
       "          285.8405 , 286.991  , 286.10214, 285.22137, 284.06158,\n",
       "          283.22757],\n",
       "         [284.8327 , 284.8072 , 284.81714, 284.862  , 284.9112 ,\n",
       "          284.93423, 284.96164, 284.99466, 285.0557 , 285.06503,\n",
       "          285.3092 , 285.46555, 285.2544 , 285.32916, 285.5733 ,\n",
       "          285.9483 , 286.33075, 286.85645, 286.17065, 284.85638,\n",
       "          283.12167],\n",
       "         [284.99094, 284.93237, 284.99094, 285.0962 , 285.1728 ,\n",
       "          285.23883, 285.28616, 285.35843, 285.5241 , 285.52597,\n",
       "          285.55713, 285.5596 , 285.51413, 285.51227, 285.61194,\n",
       "          285.83865, 286.17252, 285.94394, 286.02988, 285.64743,\n",
       "          283.8716 ]]]], dtype=float32)"
      ]
     },
     "execution_count": 23,
     "metadata": {},
     "output_type": "execute_result"
    }
   ],
   "source": [
    "in_, out_ = next(slice_val)\n",
    "in_"
   ]
  },
  {
   "cell_type": "code",
   "execution_count": 24,
   "metadata": {},
   "outputs": [
    {
     "name": "stdout",
     "output_type": "stream",
     "text": [
      "1/1 [==============================] - 0s 3ms/step\n"
     ]
    },
    {
     "data": {
      "text/plain": [
       "array([[[[[  281.60672,   281.60672,   281.60672,   281.60672,\n",
       "             281.60672,   281.60672,   281.60672,   281.60672,\n",
       "             281.60672,   281.60672,   281.60672,   281.60672,\n",
       "             281.60672,   281.60672,   281.60672,   281.60672,\n",
       "             281.60672,   281.60672,   281.60672,   281.60672,\n",
       "             281.60672],\n",
       "          [  281.60672,   281.60672,   281.60672,   281.60672,\n",
       "             281.60672,   281.60672,   281.60672,   281.60672,\n",
       "             281.60672,   281.60672,   281.60672,   281.60672,\n",
       "             281.60672,   281.60672,   281.60672,   281.60672,\n",
       "             281.60672,   281.60672,   281.60672,   281.60672,\n",
       "             281.60672],\n",
       "          [  281.60672,   281.60672,   281.60672,   281.60672,\n",
       "             281.60672,   281.60672,   281.60672,   281.60672,\n",
       "             281.60672,   281.60672,   281.60672,   281.60672,\n",
       "             281.60672,   281.60672,   281.60672,   281.60672,\n",
       "             281.60672,   281.60672,   281.60672,   281.60672,\n",
       "             281.60672],\n",
       "          [  281.60672,   281.60672,   281.60672,   281.60672,\n",
       "             281.60672,   281.60672,   281.60672,   281.60672,\n",
       "             281.60672,   281.60672,   281.60672,   281.60672,\n",
       "             281.60672,   281.60672,   281.60672,   281.60672,\n",
       "             281.60672,   281.60672,   281.60672,   281.60672,\n",
       "             281.60672],\n",
       "          [  281.60672,   281.60672,   281.60672,   281.60672,\n",
       "             281.60672,   281.60672,   281.60672,   281.60672,\n",
       "             281.60672,   281.60672,   281.60672,   281.60672,\n",
       "             281.60672,   281.60672,   281.60672,   281.60672,\n",
       "             281.60672,   281.60672,   281.60672,   281.60672,\n",
       "             281.60672],\n",
       "          [  281.60672,   281.60672,   281.60672,   281.60672,\n",
       "             281.60672,   281.60672,   281.60672,   281.60672,\n",
       "             281.60672,   281.60672,   281.60672,   281.60672,\n",
       "             281.60672,   281.60672,   281.60672,   281.60672,\n",
       "             281.60672,   281.60672,   281.60672,   281.60672,\n",
       "             281.60672],\n",
       "          [  281.60672,   281.60672,   281.60672,   281.60672,\n",
       "             281.60672,   281.60672,   281.60672,   281.60672,\n",
       "             281.60672,   281.60672,   281.60672,   281.60672,\n",
       "             281.60672,   281.60672,   281.60672,   281.60672,\n",
       "             281.60672,   281.60672,   281.60672,   281.60672,\n",
       "             281.60672],\n",
       "          [  281.60672,   281.60672,  1089.2535 ,  1396.9286 ,\n",
       "             835.1778 ,   281.60672,   281.60672,   281.60672,\n",
       "             281.60672,   281.60672,   621.0547 ,   457.80865,\n",
       "             480.98962,   281.60672,   281.60672,   281.60672,\n",
       "             281.60672,   281.60672,   281.60672,   281.60672,\n",
       "             281.60672],\n",
       "          [  281.60672,   281.60672,   281.60672,   449.7744 ,\n",
       "            2442.8157 ,   281.60672,   281.60672,   281.60672,\n",
       "             281.60672,   281.60672,   281.60672,   355.05405,\n",
       "            1169.8672 ,   281.60672,   281.60672,   281.60672,\n",
       "             281.60672,   281.60672,   281.60672,   281.60672,\n",
       "             281.60672],\n",
       "          [  281.60672,   732.75494,   281.60672,   281.60672,\n",
       "             798.08154,   493.4298 ,   281.60672,   281.60672,\n",
       "             281.60672,   434.23053,   281.60672,   281.60672,\n",
       "             551.43915,   281.60672,   281.60672,   281.60672,\n",
       "             281.60672,   281.60672,   281.60672,   281.60672,\n",
       "             281.60672],\n",
       "          [  281.60672,  3443.33   ,   281.60672,   281.60672,\n",
       "             281.60672,   281.60672,   281.60672,   281.60672,\n",
       "             281.60672,  1690.7748 ,   504.42465,   505.88663,\n",
       "             746.5579 ,   281.60672,   281.60672,   281.60672,\n",
       "             281.60672,   281.60672,   281.60672,   281.60672,\n",
       "             281.60672],\n",
       "          [  281.60672, 15145.037  ,  7890.884  ,  2496.2097 ,\n",
       "             281.60672,   281.60672,   281.60672,   281.60672,\n",
       "             281.60672,  7115.3433 ,  2051.8267 ,  1117.1147 ,\n",
       "             281.60672,   281.60672,   281.60672,   281.60672,\n",
       "             281.60672,   281.60672,   281.60672,   281.60672,\n",
       "             281.60672],\n",
       "          [  281.60672,   281.60672,   281.60672,   281.60672,\n",
       "             281.60672,   281.60672,   281.60672,   281.60672,\n",
       "             281.60672,   281.60672,   281.60672,   281.60672,\n",
       "             281.60672,   281.60672,   281.60672,   281.60672,\n",
       "             281.60672,   281.60672,   281.60672,   281.60672,\n",
       "             281.60672],\n",
       "          [  281.60672,   281.60672,   281.60672,   281.60672,\n",
       "             281.60672,   281.60672,   281.60672,   281.60672,\n",
       "             281.60672,   281.60672,   281.60672,   281.60672,\n",
       "             281.60672,   281.60672,   281.60672,   281.60672,\n",
       "             281.60672,   281.60672,   281.60672,   281.60672,\n",
       "             281.60672],\n",
       "          [  281.60672,   281.60672,   281.60672,   281.60672,\n",
       "             281.60672,   281.60672,   281.60672,   281.60672,\n",
       "             281.60672,   281.60672,   281.60672,   281.60672,\n",
       "             281.60672,   281.60672,   281.60672,   281.60672,\n",
       "             281.60672,   281.60672,   281.60672,   281.60672,\n",
       "             281.60672],\n",
       "          [  281.60672,   281.60672,   281.60672,   281.60672,\n",
       "             281.60672,   281.60672,   281.60672,   281.60672,\n",
       "             281.60672,   281.60672,   607.5428 ,   614.91907,\n",
       "             454.45883,   281.60672,   281.60672,   281.60672,\n",
       "             281.60672,   281.60672,   281.60672,   281.60672,\n",
       "             281.60672],\n",
       "          [  281.60672,   281.60672,   281.60672,   281.60672,\n",
       "             281.60672,   281.60672,   281.60672,   281.60672,\n",
       "             281.60672,   281.60672,   281.60672,   376.7147 ,\n",
       "            1117.2848 ,   281.60672,   380.21817,   281.60672,\n",
       "             281.60672,   281.60672,   281.60672,   281.60672,\n",
       "             281.60672],\n",
       "          [  281.60672,   281.60672,   281.60672,   281.60672,\n",
       "             281.60672,   281.60672,   281.60672,   281.60672,\n",
       "             281.60672,   444.74286,   281.60672,   281.60672,\n",
       "             462.05362,   281.60672,   297.64792,   281.60672,\n",
       "             281.60672,   281.60672,   281.60672,   281.60672,\n",
       "             281.60672],\n",
       "          [  281.60672,   281.60672,   281.60672,   281.60672,\n",
       "             281.60672,   281.60672,   281.60672,   281.60672,\n",
       "             281.60672,  1663.0784 ,   281.60672,   281.60672,\n",
       "             281.60672,   281.60672,   281.60672,   281.60672,\n",
       "             281.60672,   281.60672,   281.60672,   281.60672,\n",
       "             281.60672],\n",
       "          [  281.60672,   281.60672,   281.60672,   281.60672,\n",
       "             281.60672,   281.60672,   281.60672,   281.60672,\n",
       "             281.60672,  6922.811  ,  2023.6167 ,  1954.8834 ,\n",
       "             311.13766,   281.60672,   281.60672,   281.60672,\n",
       "             281.60672,   281.60672,   281.60672,   281.60672,\n",
       "             281.60672],\n",
       "          [  281.60672,   281.60672,   281.60672,   281.60672,\n",
       "             281.60672,   281.60672,   281.60672,   281.60672,\n",
       "             281.60672,   281.60672,   281.60672,   281.60672,\n",
       "             281.60672,   281.60672,   281.60672,   281.60672,\n",
       "             281.60672,   281.60672,   281.60672,   281.60672,\n",
       "             281.60672]]]]], dtype=float32)"
      ]
     },
     "execution_count": 24,
     "metadata": {},
     "output_type": "execute_result"
    }
   ],
   "source": [
    "test_pred= model.predict(in_, verbose=1)\n",
    "test_pred"
   ]
  },
  {
   "cell_type": "code",
   "execution_count": null,
   "metadata": {},
   "outputs": [],
   "source": []
  }
 ],
 "metadata": {
  "environment": {
   "name": "tf2-2-2-gpu.2-2.m48",
   "type": "gcloud",
   "uri": "gcr.io/deeplearning-platform-release/tf2-2-2-gpu.2-2:m48"
  },
  "kernelspec": {
   "display_name": "Python 3",
   "language": "python",
   "name": "python3"
  },
  "language_info": {
   "codemirror_mode": {
    "name": "ipython",
    "version": 3
   },
   "file_extension": ".py",
   "mimetype": "text/x-python",
   "name": "python",
   "nbconvert_exporter": "python",
   "pygments_lexer": "ipython3",
   "version": "3.7.6"
  },
  "toc": {
   "base_numbering": 1,
   "nav_menu": {},
   "number_sections": true,
   "sideBar": true,
   "skip_h1_title": false,
   "title_cell": "Table of Contents",
   "title_sidebar": "Contents",
   "toc_cell": false,
   "toc_position": {},
   "toc_section_display": true,
   "toc_window_display": false
  },
  "varInspector": {
   "cols": {
    "lenName": 16,
    "lenType": 16,
    "lenVar": 40
   },
   "kernels_config": {
    "python": {
     "delete_cmd_postfix": "",
     "delete_cmd_prefix": "del ",
     "library": "var_list.py",
     "varRefreshCmd": "print(var_dic_list())"
    },
    "r": {
     "delete_cmd_postfix": ") ",
     "delete_cmd_prefix": "rm(",
     "library": "var_list.r",
     "varRefreshCmd": "cat(var_dic_list()) "
    }
   },
   "types_to_exclude": [
    "module",
    "function",
    "builtin_function_or_method",
    "instance",
    "_Feature"
   ],
   "window_display": false
  }
 },
 "nbformat": 4,
 "nbformat_minor": 4
}
