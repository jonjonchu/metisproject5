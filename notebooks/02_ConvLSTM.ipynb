{
 "cells": [
  {
   "cell_type": "markdown",
   "metadata": {},
   "source": [
    "# ConvLSTM"
   ]
  },
  {
   "cell_type": "code",
   "execution_count": 1,
   "metadata": {
    "ExecuteTime": {
     "end_time": "2020-06-09T00:45:35.438449Z",
     "start_time": "2020-06-09T00:45:30.246851Z"
    }
   },
   "outputs": [],
   "source": [
    "import numpy as np\n",
    "\n",
    "import tensorflow as tf\n",
    "\n",
    "from tensorflow import keras\n",
    "from tensorflow.keras import layers\n",
    "# import keras\n",
    "# from keras.models import Sequential\n",
    "# from keras.layers import ConvLSTM2D, Dense, InputLayer, BatchNormalization, Permute"
   ]
  },
  {
   "cell_type": "code",
   "execution_count": 2,
   "metadata": {},
   "outputs": [
    {
     "name": "stdout",
     "output_type": "stream",
     "text": [
      "2.2.0-dlenv\n"
     ]
    }
   ],
   "source": [
    "print(tf.__version__)"
   ]
  },
  {
   "cell_type": "markdown",
   "metadata": {},
   "source": [
    "Let's just make a model and experiment with it"
   ]
  },
  {
   "cell_type": "code",
   "execution_count": 3,
   "metadata": {
    "ExecuteTime": {
     "end_time": "2020-06-09T00:45:35.512379Z",
     "start_time": "2020-06-09T00:45:35.499817Z"
    }
   },
   "outputs": [],
   "source": [
    "frames = 1\n",
    "channels = 1\n",
    "pixels_x = 21\n",
    "pixels_y = 21"
   ]
  },
  {
   "cell_type": "code",
   "execution_count": 4,
   "metadata": {
    "ExecuteTime": {
     "end_time": "2020-06-09T00:45:37.897327Z",
     "start_time": "2020-06-09T00:45:35.592747Z"
    }
   },
   "outputs": [],
   "source": [
    "model = tf.keras.Sequential(name='convlstm_model_0')\n",
    "model.add(layers.InputLayer(input_shape=(frames, channels, pixels_x, pixels_y)))\n",
    "model.add(layers.ConvLSTM2D(\n",
    "    filters=channels*4, kernel_size=(5,5), padding='same', data_format='channels_first',return_sequences=True))\n",
    "model.add(layers.BatchNormalization(axis=1, ))\n",
    "model.add(layers.ConvLSTM2D(\n",
    "    filters=channels*2, kernel_size=(3,3), padding='same', data_format='channels_first',return_sequences=True))\n",
    "model.add(layers.BatchNormalization(axis=1, ))\n",
    "model.add(layers.ConvLSTM2D(\n",
    "    filters=channels, kernel_size=(1,1), padding='same', data_format='channels_first',return_sequences=True))\n",
    "model.add(layers.BatchNormalization(axis=1, ))\n",
    "\n",
    "model.compile(loss='categorical_crossentropy',\n",
    "                  optimizer='adadelta',\n",
    "                  metrics=['mean_absolute_error'])"
   ]
  },
  {
   "cell_type": "code",
   "execution_count": 5,
   "metadata": {
    "ExecuteTime": {
     "end_time": "2020-06-09T00:45:37.991959Z",
     "start_time": "2020-06-09T00:45:37.965004Z"
    }
   },
   "outputs": [
    {
     "name": "stdout",
     "output_type": "stream",
     "text": [
      "Model: \"convlstm_model_0\"\n",
      "_________________________________________________________________\n",
      "Layer (type)                 Output Shape              Param #   \n",
      "=================================================================\n",
      "conv_lst_m2d (ConvLSTM2D)    (None, 1, 4, 21, 21)      2016      \n",
      "_________________________________________________________________\n",
      "batch_normalization (BatchNo (None, 1, 4, 21, 21)      4         \n",
      "_________________________________________________________________\n",
      "conv_lst_m2d_1 (ConvLSTM2D)  (None, 1, 2, 21, 21)      440       \n",
      "_________________________________________________________________\n",
      "batch_normalization_1 (Batch (None, 1, 2, 21, 21)      4         \n",
      "_________________________________________________________________\n",
      "conv_lst_m2d_2 (ConvLSTM2D)  (None, 1, 1, 21, 21)      16        \n",
      "_________________________________________________________________\n",
      "batch_normalization_2 (Batch (None, 1, 1, 21, 21)      4         \n",
      "=================================================================\n",
      "Total params: 2,484\n",
      "Trainable params: 2,478\n",
      "Non-trainable params: 6\n",
      "_________________________________________________________________\n"
     ]
    }
   ],
   "source": [
    "model.summary()"
   ]
  },
  {
   "cell_type": "markdown",
   "metadata": {},
   "source": [
    "## try training"
   ]
  },
  {
   "cell_type": "code",
   "execution_count": 6,
   "metadata": {
    "ExecuteTime": {
     "end_time": "2020-06-09T17:33:30.216293Z",
     "start_time": "2020-06-09T17:33:30.116534Z"
    }
   },
   "outputs": [],
   "source": [
    "import glob\n",
    "import xarray as xr\n",
    "def generate_arrays(img_dir, slice_size=24, vars_=['t2m']):\n",
    "    \"\"\"\n",
    "    A generator that returns one 24-hour slice as input, and the subsequent 24-hour slice as output\n",
    "    \"\"\"\n",
    "    # get list of netcdf files in img_dir\n",
    "    netcdf_dirs = sorted(glob.glob(img_dir+\"/*.nc\"))\n",
    "    file_index = 0\n",
    "    # open first netcdf file\n",
    "    ds = xr.open_dataset(netcdf_dirs[file_index])\n",
    "    # select only some variables\n",
    "    ds = ds[vars_]\n",
    "    # counter is for hourly time slices. months with 31 days have 744 hours\n",
    "    counter = 0\n",
    "    while True: # generator needs to run infinitely\n",
    "        \n",
    "        # get input slice\n",
    "        input_images = ds.isel( time=slice(counter, counter + slice_size)).to_array().values\n",
    "        \n",
    "        # check if we're at the end of the month\n",
    "        if counter+2*slice_size > ds.sizes['time']:\n",
    "            # reset slice counter, increment to next netcdf file, open it, get output images\n",
    "            counter = 0\n",
    "            file_index += 1\n",
    "            if file_index == len(netcdf_dirs):\n",
    "                file_index = 0\n",
    "                \n",
    "            ds = xr.open_dataset(netcdf_dirs[file_index])\n",
    "            # select only some variables\n",
    "            ds = ds[vars_]\n",
    "            # take slice 0-24 as output-image\n",
    "            output_images = ds.isel( time=slice(counter, counter + slice_size)).to_array().values\n",
    "            # set counter to -slice_size to reset for input on next iteration\n",
    "            counter -= slice_size\n",
    "        # get output slice right after input slice\n",
    "        else:\n",
    "            output_images = ds.isel( time=slice(counter+slice_size, counter + 2*slice_size)).to_array().values\n",
    "        \n",
    "        # switch frames and channel axes\n",
    "        input_images = np.moveaxis(input_images, 0, 1)\n",
    "        output_images = np.moveaxis(output_images, 0, 1)\n",
    "        # reshape values\n",
    "        input_images = input_images.reshape(-1, frames, channels, pixels_x, pixels_y)\n",
    "        output_images = output_images.reshape(-1, frames, channels, pixels_x, pixels_y)\n",
    "        yield (input_images, output_images)\n",
    "        counter += slice_size"
   ]
  },
  {
   "cell_type": "code",
   "execution_count": 7,
   "metadata": {
    "ExecuteTime": {
     "end_time": "2020-06-09T01:51:40.871673Z",
     "start_time": "2020-06-09T01:51:40.859662Z"
    }
   },
   "outputs": [],
   "source": [
    "train_file_path = \"../data/train\"\n",
    "validate_file_path = \"../data/validate\"\n",
    "# 3 years of training data = \n",
    "train_steps = 3 * 365 * 24 / frames\n",
    "# 1 year of validation data = \n",
    "valid_steps = 1 * 365 * 24 / frames"
   ]
  },
  {
   "cell_type": "code",
   "execution_count": null,
   "metadata": {
    "ExecuteTime": {
     "end_time": "2020-06-09T17:33:52.137640Z",
     "start_time": "2020-06-09T17:33:34.817321Z"
    }
   },
   "outputs": [
    {
     "name": "stdout",
     "output_type": "stream",
     "text": [
      "Epoch 1/20\n",
      "26280/26280 [==============================] - 868s 33ms/step - loss: 49184.8281 - mean_absolute_error: 287.7737 - val_loss: 38606.3633 - val_mean_absolute_error: 287.5273\n",
      "Epoch 2/20\n",
      "26280/26280 [==============================] - 868s 33ms/step - loss: 43895.5586 - mean_absolute_error: 287.7822 - val_loss: 38714.2773 - val_mean_absolute_error: 287.5027\n",
      "Epoch 3/20\n",
      "26280/26280 [==============================] - 872s 33ms/step - loss: 43780.6094 - mean_absolute_error: 287.7748 - val_loss: 68717.8047 - val_mean_absolute_error: 287.5238\n",
      "Epoch 4/20\n",
      "26280/26280 [==============================] - 875s 33ms/step - loss: 23960.7598 - mean_absolute_error: 287.7737 - val_loss: 13661.2412 - val_mean_absolute_error: 287.5292\n",
      "Epoch 5/20\n",
      "26280/26280 [==============================] - 876s 33ms/step - loss: 13662.8223 - mean_absolute_error: 287.7738 - val_loss: 13618.2490 - val_mean_absolute_error: 287.5292\n",
      "Epoch 6/20\n",
      "26280/26280 [==============================] - ETA: 0s - loss: 13628.7480 - mean_absolute_error: 287.7738"
     ]
    }
   ],
   "source": [
    "history = model.fit(\n",
    "    generate_arrays(train_file_path, slice_size=frames),\n",
    "    steps_per_epoch = train_steps,\n",
    "    epochs = 20,\n",
    "    verbose = 1,\n",
    "    shuffle = False,\n",
    "    initial_epoch = 0,\n",
    "    validation_steps = valid_steps,\n",
    "    validation_data = generate_arrays(validate_file_path, slice_size=frames),\n",
    "    )"
   ]
  },
  {
   "cell_type": "markdown",
   "metadata": {},
   "source": [
    "## Save model to ```../models/```"
   ]
  },
  {
   "cell_type": "code",
   "execution_count": null,
   "metadata": {
    "ExecuteTime": {
     "end_time": "2020-06-09T17:33:58.607418Z",
     "start_time": "2020-06-09T17:33:58.519275Z"
    }
   },
   "outputs": [],
   "source": [
    "import pickle\n",
    "import datetime\n",
    "current_datetime = datetime.datetime.now().strftime(\"%Y_%M_%d_%H%M\")\n",
    "pickle.dump( history, open( \"../models/\"+current_datetime+\"_convlstm.pkl\", \"wb\" ) )"
   ]
  },
  {
   "cell_type": "code",
   "execution_count": null,
   "metadata": {},
   "outputs": [],
   "source": []
  },
  {
   "cell_type": "code",
   "execution_count": null,
   "metadata": {},
   "outputs": [],
   "source": []
  },
  {
   "cell_type": "code",
   "execution_count": null,
   "metadata": {},
   "outputs": [],
   "source": []
  },
  {
   "cell_type": "code",
   "execution_count": null,
   "metadata": {},
   "outputs": [],
   "source": []
  },
  {
   "cell_type": "code",
   "execution_count": null,
   "metadata": {
    "ExecuteTime": {
     "end_time": "2020-06-04T17:58:11.014655Z",
     "start_time": "2020-06-04T17:58:10.959946Z"
    }
   },
   "outputs": [],
   "source": [
    "#rewrite model in Functional style\n",
    "\n",
    "# main input\n",
    "frame_input = layers.Input(shape=(frames, channels, pixels_x, pixels_y), name='frame_input')\n",
    "\n",
    "\n",
    "# ConvLSTM block\n",
    "stack = layers.ConvLSTM2D(filters=20, kernel_size=(5,5), padding='same',\n",
    "                       data_format='channels_first',return_sequences=True, name='ConvLSTM_1')(frame_input)\n",
    "stack = layers.BatchNormalization(axis=1, name='batchnorm_1')(stack)\n",
    "stack = layers.ConvLSTM2D(filters=10, kernel_size=(5,5), padding='same',\n",
    "                       data_format='channels_first',return_sequences=True, name='ConvLSTM_2')(stack)\n",
    "stack = layers.BatchNormalization(axis=1, name='batchnorm_2')(stack)\n",
    "stack = layers.ConvLSTM2D(filters=10, kernel_size=(1,1), padding='same',\n",
    "                       data_format='channels_first',return_sequences=True, name='ConvLSTM_3')(stack)\n",
    "\n",
    "clstm_out = layers.Flatten(name = 'ConvLSTM_out')(stack)\n",
    "\n",
    "# auxiliary input\n",
    "auxiliary_input = layers.Input(shape=(5,), name='aux_input')\n",
    "dense_input = layers.concatenate([clstm_out, auxiliary_input], name='concatenate_layer')\n",
    "\n",
    "# dense layers\n",
    "dropout_seed = 42\n",
    "dense1 = layers.Dense(16, name='first_dense_layer')(dense_input)\n",
    "dropout1 = layers.Dropout(0.75, seed = dropout_seed, name='first_dropout_layer')(dense1)\n",
    "dense2 = layers.Dense(8, name='second_dense_layer')(dropout1)\n",
    "dropout2 = layers.Dropout(0.75, seed = dropout_seed, name='second_dropout_layer')(dense2)\n",
    "dense3 = layers.Dense(4, name='third_dense_layer')(dropout2)\n",
    "dropout3 = layers.Dropout(0.75, seed = dropout_seed, name='third_dropout_layer')(dense3)\n",
    "dense3 = layers.Dense(1, name='final_dense_layer')(dropout3)\n",
    "\n",
    "# reshape output\n",
    "# dense_output = layers.Reshape(target_shape=(frames, channels, pixels_x, pixels_y))(dense3)\n",
    "\n",
    "\n",
    "model2 = Model(inputs = [frame_input, auxiliary_input], outputs = [dense3])\n",
    "\n",
    "model2.compile(loss='categorical_crossentropy',\n",
    "                  optimizer='adadelta',\n",
    "                  metrics=['mean_absolute_error'])\n",
    "model2.summary()"
   ]
  },
  {
   "cell_type": "code",
   "execution_count": null,
   "metadata": {},
   "outputs": [],
   "source": []
  }
 ],
 "metadata": {
  "environment": {
   "name": "tf2-2-2-gpu.2-2.m48",
   "type": "gcloud",
   "uri": "gcr.io/deeplearning-platform-release/tf2-2-2-gpu.2-2:m48"
  },
  "kernelspec": {
   "display_name": "Python 3",
   "language": "python",
   "name": "python3"
  },
  "language_info": {
   "codemirror_mode": {
    "name": "ipython",
    "version": 3
   },
   "file_extension": ".py",
   "mimetype": "text/x-python",
   "name": "python",
   "nbconvert_exporter": "python",
   "pygments_lexer": "ipython3",
   "version": "3.7.6"
  },
  "toc": {
   "base_numbering": 1,
   "nav_menu": {},
   "number_sections": true,
   "sideBar": true,
   "skip_h1_title": false,
   "title_cell": "Table of Contents",
   "title_sidebar": "Contents",
   "toc_cell": false,
   "toc_position": {},
   "toc_section_display": true,
   "toc_window_display": false
  },
  "varInspector": {
   "cols": {
    "lenName": 16,
    "lenType": 16,
    "lenVar": 40
   },
   "kernels_config": {
    "python": {
     "delete_cmd_postfix": "",
     "delete_cmd_prefix": "del ",
     "library": "var_list.py",
     "varRefreshCmd": "print(var_dic_list())"
    },
    "r": {
     "delete_cmd_postfix": ") ",
     "delete_cmd_prefix": "rm(",
     "library": "var_list.r",
     "varRefreshCmd": "cat(var_dic_list()) "
    }
   },
   "types_to_exclude": [
    "module",
    "function",
    "builtin_function_or_method",
    "instance",
    "_Feature"
   ],
   "window_display": false
  }
 },
 "nbformat": 4,
 "nbformat_minor": 4
}
