{
 "cells": [
  {
   "cell_type": "markdown",
   "metadata": {},
   "source": [
    "# Training Time"
   ]
  },
  {
   "cell_type": "code",
   "execution_count": 1,
   "metadata": {
    "ExecuteTime": {
     "end_time": "2020-06-15T16:06:12.076539Z",
     "start_time": "2020-06-15T16:06:12.047621Z"
    }
   },
   "outputs": [],
   "source": [
    "import glob\n",
    "from pprint import pprint\n",
    "import pickle\n",
    "import re\n",
    "\n",
    "import numpy as np\n",
    "import tensorflow as tf\n",
    "from tensorflow.keras import layers\n",
    "from tensorflow.keras import backend as K\n",
    "\n",
    "from slice_generator import SliceGenerator"
   ]
  },
  {
   "cell_type": "code",
   "execution_count": 2,
   "metadata": {
    "ExecuteTime": {
     "end_time": "2020-06-15T16:06:13.284414Z",
     "start_time": "2020-06-15T16:06:13.277779Z"
    }
   },
   "outputs": [
    {
     "name": "stdout",
     "output_type": "stream",
     "text": [
      "tensorflow version: 2.2.0-dlenv\n"
     ]
    }
   ],
   "source": [
    "print(\"tensorflow version:\",tf.__version__)"
   ]
  },
  {
   "cell_type": "markdown",
   "metadata": {},
   "source": [
    "## Model variables"
   ]
  },
  {
   "cell_type": "code",
   "execution_count": 3,
   "metadata": {
    "ExecuteTime": {
     "end_time": "2020-06-15T16:06:15.516904Z",
     "start_time": "2020-06-15T16:06:15.505686Z"
    }
   },
   "outputs": [],
   "source": [
    "frames = 1\n",
    "channels = 1\n",
    "pixels_x = 21\n",
    "pixels_y = 21"
   ]
  },
  {
   "cell_type": "markdown",
   "metadata": {},
   "source": [
    "## get and save the pwd"
   ]
  },
  {
   "cell_type": "code",
   "execution_count": 4,
   "metadata": {
    "ExecuteTime": {
     "end_time": "2020-06-15T16:06:17.551021Z",
     "start_time": "2020-06-15T16:06:17.527128Z"
    }
   },
   "outputs": [
    {
     "name": "stdout",
     "output_type": "stream",
     "text": [
      "['../models/stack_single_input/log.log',\n",
      " '../models/stack_single_input/ssi_hist1.pkl',\n",
      " '../models/stack_single_input/stack_single_input_1F.h5',\n",
      " '../models/stack_single_input/train_val_loss.png']\n"
     ]
    }
   ],
   "source": [
    "model_dir = \"../models/\"\n",
    "model_folder = \"stack_single_input/\"\n",
    "pwd = model_dir+model_folder\n",
    "file_list = sorted(glob.glob(pwd+\"*\"))\n",
    "pprint(file_list)"
   ]
  },
  {
   "cell_type": "markdown",
   "metadata": {},
   "source": [
    "## Find and load model"
   ]
  },
  {
   "cell_type": "code",
   "execution_count": 5,
   "metadata": {
    "ExecuteTime": {
     "end_time": "2020-06-15T16:06:17.789615Z",
     "start_time": "2020-06-15T16:06:17.784870Z"
    }
   },
   "outputs": [
    {
     "name": "stdout",
     "output_type": "stream",
     "text": [
      "Loading... \n",
      "WARNING:tensorflow:No training configuration found in the save file, so the model was *not* compiled. Compile it manually.\n",
      "Loading done for stack_single_input_1F\n"
     ]
    }
   ],
   "source": [
    "# choose a model\n",
    "models=[]\n",
    "for file in file_list:\n",
    "    match = re.search(\"\\.h5$\", file)\n",
    "    if match:\n",
    "        models.append(file)\n",
    "\n",
    "assert len(models) > 0, \"Hmm, can't seem to find any model files ending in .h5 in \"+pwd\n",
    "if len(models) > 1:\n",
    "    print(\"There are more than one models in the directory.\\nLoading the first.\\n\", models)\n",
    "print(\"Loading... \")\n",
    "model = tf.keras.models.load_model(models[0])\n",
    "\n",
    "model_name = re.search(\"[^/]*(?=\\.[^.]+($|\\?))\", models[0]).__getitem__(0)\n",
    "print(\"Loading done for\",model_name)"
   ]
  },
  {
   "cell_type": "code",
   "execution_count": 6,
   "metadata": {},
   "outputs": [],
   "source": [
    "# model_name += \"_\"+loss_func_name\n",
    "# model_name"
   ]
  },
  {
   "cell_type": "markdown",
   "metadata": {},
   "source": [
    "# Loss, Learning Rate, Optimizer"
   ]
  },
  {
   "cell_type": "markdown",
   "metadata": {},
   "source": [
    "## Loss\n",
    "Define a custom loss function. Here it's SSE"
   ]
  },
  {
   "cell_type": "code",
   "execution_count": 7,
   "metadata": {},
   "outputs": [],
   "source": [
    "loss_func_name = \"SSE\"\n",
    "def sum_sq_err(y_true, y_pred):\n",
    "    return K.sum( K.square(y_true - y_pred), axis=1)\n",
    "class SumSquaredError(tf.keras.losses.Loss):\n",
    "    def __init__():\n",
    "        self.name = \"SSE\"\n",
    "    def call(self, y_true, y_pred):\n",
    "#         y_pred = ops.convert_to_tensor_v2(y_pred)\n",
    "#         y_true = math_ops.cast(y_true, y_pred.dtype)\n",
    "        return K.sum( K.square(y_true - y_pred), axis=1)"
   ]
  },
  {
   "cell_type": "markdown",
   "metadata": {},
   "source": [
    "## lr\n",
    "Define a Learning rate schedule."
   ]
  },
  {
   "cell_type": "code",
   "execution_count": 8,
   "metadata": {},
   "outputs": [],
   "source": [
    "lr = 0.01\n",
    "# lr = tf.keras.optimizers.schedules.ExponentialDecay(\n",
    "#     initial_learning_rate = 1./3.1415,\n",
    "#     decay_steps = 1,\n",
    "#     decay_rate = 0.367,\n",
    "#     staircase=False,\n",
    "#     name=\"inversePi_e_inverse7\"\n",
    "# )"
   ]
  },
  {
   "cell_type": "markdown",
   "metadata": {},
   "source": [
    "## optimizer\n",
    "Define an optimizer. Must set ```clipnorm``` to prevent wild things from happening"
   ]
  },
  {
   "cell_type": "code",
   "execution_count": 10,
   "metadata": {},
   "outputs": [],
   "source": [
    "opt = tf.keras.optimizers.SGD(\n",
    "    learning_rate=0.01,\n",
    "    momentum=0.9,\n",
    "    nesterov=False,\n",
    "    name='SGD',\n",
    "    clipnorm=1.0,\n",
    ")\n",
    "# tf.keras.optimizers.Adam(learning_rate=lr,\n",
    "#                                beta_1=0.9,\n",
    "#                                beta_2=0.999,\n",
    "#                                epsilon=1e-07,\n",
    "#                                amsgrad=False,\n",
    "#                                name='Adam',\n",
    "#                                clipnorm=1.0)"
   ]
  },
  {
   "cell_type": "markdown",
   "metadata": {},
   "source": [
    "# Compile the Model"
   ]
  },
  {
   "cell_type": "code",
   "execution_count": 11,
   "metadata": {},
   "outputs": [
    {
     "name": "stdout",
     "output_type": "stream",
     "text": [
      "Compiling stack_single_input_1F ...\n",
      "Compiled.\n"
     ]
    }
   ],
   "source": [
    "print(\"Compiling\", model_name,\"...\")\n",
    "model.compile(\n",
    "    loss=sum_sq_err,\n",
    "    optimizer=opt,\n",
    "    metrics=['mean_absolute_error'])\n",
    "print(\"Compiled.\")"
   ]
  },
  {
   "cell_type": "markdown",
   "metadata": {},
   "source": [
    "# Prepare for training, callbacks\n",
    "Get paths to training and validation sets, and number of steps"
   ]
  },
  {
   "cell_type": "code",
   "execution_count": 12,
   "metadata": {
    "ExecuteTime": {
     "end_time": "2020-06-15T16:06:19.687719Z",
     "start_time": "2020-06-15T16:06:19.677223Z"
    }
   },
   "outputs": [],
   "source": [
    "train_file_path = \"../data/train\"\n",
    "valid_file_path = \"../data/validate\"\n",
    "vars_           = ['t2m']\n",
    "proc_type       = \"convlstm\"\n",
    "# 3 years of training data = \n",
    "train_steps = 3 * 365 * 24 / frames\n",
    "# 1 year of validation data = \n",
    "valid_steps = 1 * 365 * 24 / frames"
   ]
  },
  {
   "cell_type": "markdown",
   "metadata": {},
   "source": [
    "## callbacks\n",
    "Define callbacks to periodically save the model, stop early, write logs to tensorboard, and stream loss metrics to a csv file"
   ]
  },
  {
   "cell_type": "code",
   "execution_count": 16,
   "metadata": {},
   "outputs": [],
   "source": [
    "callbacks = [\n",
    "    tf.keras.callbacks.ModelCheckpoint(\n",
    "        filepath=pwd+model_name+\".h5\", \n",
    "        monitor='val_loss',\n",
    "        verbose=1,\n",
    "        save_best_only=True,\n",
    "        save_weights_only=False,\n",
    "        mode='auto',\n",
    "        save_freq='epoch',\n",
    "    ),\n",
    "    tf.keras.callbacks.EarlyStopping(\n",
    "        # Stop training when `val_loss` is no longer improving\n",
    "        monitor=\"val_loss\",\n",
    "        # \"no longer improving\" being defined as \"no better than 1e-2 less\"\n",
    "        min_delta=1,\n",
    "        # \"no longer improving\" being further defined as \"for at least 1 epochs\"\n",
    "        patience=1,\n",
    "        verbose=1,\n",
    "    ),\n",
    "    tf.keras.callbacks.CSVLogger(\n",
    "        filename=pwd+\"log.log\",\n",
    "        separator=',',\n",
    "        append=True\n",
    "    ),\n",
    "]"
   ]
  },
  {
   "cell_type": "markdown",
   "metadata": {},
   "source": [
    "# Train and save"
   ]
  },
  {
   "cell_type": "code",
   "execution_count": 17,
   "metadata": {
    "ExecuteTime": {
     "end_time": "2020-06-15T16:06:20.382027Z",
     "start_time": "2020-06-15T16:06:20.373946Z"
    }
   },
   "outputs": [],
   "source": [
    "epochs = 6"
   ]
  },
  {
   "cell_type": "code",
   "execution_count": 19,
   "metadata": {
    "ExecuteTime": {
     "end_time": "2020-06-15T16:06:21.086974Z",
     "start_time": "2020-06-15T16:06:20.731688Z"
    },
    "collapsed": true,
    "jupyter": {
     "outputs_hidden": true
    }
   },
   "outputs": [
    {
     "name": "stdout",
     "output_type": "stream",
     "text": [
      "Epoch 1/6\n",
      "26279/26280 [============================>.] - ETA: 0s - loss: 71.8066 - mean_absolute_error: 4.3996\n",
      "Epoch 00001: val_loss improved from inf to 73.88187, saving model to ../models/stack_single_input/stack_single_input_1F.h5\n",
      "26280/26280 [==============================] - 1502s 57ms/step - loss: 71.8047 - mean_absolute_error: 4.3996 - val_loss: 73.8819 - val_mean_absolute_error: 6.8856\n",
      "Epoch 2/6\n",
      " 2916/26280 [==>...........................] - ETA: 24:03 - loss: 18.3105 - mean_absolute_error: 2.9903"
     ]
    },
    {
     "ename": "KeyboardInterrupt",
     "evalue": "",
     "output_type": "error",
     "traceback": [
      "\u001b[0;31m---------------------------------------------------------------------------\u001b[0m",
      "\u001b[0;31mKeyboardInterrupt\u001b[0m                         Traceback (most recent call last)",
      "\u001b[0;32m<ipython-input-19-dcbd24178a96>\u001b[0m in \u001b[0;36m<module>\u001b[0;34m\u001b[0m\n\u001b[1;32m     12\u001b[0m     validation_data = SliceGenerator(img_dir=valid_file_path, slice_size=frames,\n\u001b[1;32m     13\u001b[0m                                       \u001b[0mvars_\u001b[0m\u001b[0;34m=\u001b[0m\u001b[0mvars_\u001b[0m\u001b[0;34m,\u001b[0m \u001b[0mproc_type\u001b[0m\u001b[0;34m=\u001b[0m\u001b[0mproc_type\u001b[0m\u001b[0;34m,\u001b[0m\u001b[0;34m\u001b[0m\u001b[0;34m\u001b[0m\u001b[0m\n\u001b[0;32m---> 14\u001b[0;31m                                       \u001b[0mpixels_x\u001b[0m\u001b[0;34m=\u001b[0m\u001b[0mpixels_x\u001b[0m\u001b[0;34m,\u001b[0m \u001b[0mpixels_y\u001b[0m\u001b[0;34m=\u001b[0m\u001b[0mpixels_y\u001b[0m\u001b[0;34m,\u001b[0m \u001b[0mdebug\u001b[0m\u001b[0;34m=\u001b[0m\u001b[0;32mFalse\u001b[0m\u001b[0;34m\u001b[0m\u001b[0;34m\u001b[0m\u001b[0m\n\u001b[0m\u001b[1;32m     15\u001b[0m                                       ),\n\u001b[1;32m     16\u001b[0m )\n",
      "\u001b[0;32m/opt/conda/lib/python3.7/site-packages/tensorflow/python/keras/engine/training.py\u001b[0m in \u001b[0;36m_method_wrapper\u001b[0;34m(self, *args, **kwargs)\u001b[0m\n\u001b[1;32m     64\u001b[0m   \u001b[0;32mdef\u001b[0m \u001b[0m_method_wrapper\u001b[0m\u001b[0;34m(\u001b[0m\u001b[0mself\u001b[0m\u001b[0;34m,\u001b[0m \u001b[0;34m*\u001b[0m\u001b[0margs\u001b[0m\u001b[0;34m,\u001b[0m \u001b[0;34m**\u001b[0m\u001b[0mkwargs\u001b[0m\u001b[0;34m)\u001b[0m\u001b[0;34m:\u001b[0m\u001b[0;34m\u001b[0m\u001b[0;34m\u001b[0m\u001b[0m\n\u001b[1;32m     65\u001b[0m     \u001b[0;32mif\u001b[0m \u001b[0;32mnot\u001b[0m \u001b[0mself\u001b[0m\u001b[0;34m.\u001b[0m\u001b[0m_in_multi_worker_mode\u001b[0m\u001b[0;34m(\u001b[0m\u001b[0;34m)\u001b[0m\u001b[0;34m:\u001b[0m  \u001b[0;31m# pylint: disable=protected-access\u001b[0m\u001b[0;34m\u001b[0m\u001b[0;34m\u001b[0m\u001b[0m\n\u001b[0;32m---> 66\u001b[0;31m       \u001b[0;32mreturn\u001b[0m \u001b[0mmethod\u001b[0m\u001b[0;34m(\u001b[0m\u001b[0mself\u001b[0m\u001b[0;34m,\u001b[0m \u001b[0;34m*\u001b[0m\u001b[0margs\u001b[0m\u001b[0;34m,\u001b[0m \u001b[0;34m**\u001b[0m\u001b[0mkwargs\u001b[0m\u001b[0;34m)\u001b[0m\u001b[0;34m\u001b[0m\u001b[0;34m\u001b[0m\u001b[0m\n\u001b[0m\u001b[1;32m     67\u001b[0m \u001b[0;34m\u001b[0m\u001b[0m\n\u001b[1;32m     68\u001b[0m     \u001b[0;31m# Running inside `run_distribute_coordinator` already.\u001b[0m\u001b[0;34m\u001b[0m\u001b[0;34m\u001b[0m\u001b[0;34m\u001b[0m\u001b[0m\n",
      "\u001b[0;32m/opt/conda/lib/python3.7/site-packages/tensorflow/python/keras/engine/training.py\u001b[0m in \u001b[0;36mfit\u001b[0;34m(self, x, y, batch_size, epochs, verbose, callbacks, validation_split, validation_data, shuffle, class_weight, sample_weight, initial_epoch, steps_per_epoch, validation_steps, validation_batch_size, validation_freq, max_queue_size, workers, use_multiprocessing)\u001b[0m\n\u001b[1;32m    846\u001b[0m                 batch_size=batch_size):\n\u001b[1;32m    847\u001b[0m               \u001b[0mcallbacks\u001b[0m\u001b[0;34m.\u001b[0m\u001b[0mon_train_batch_begin\u001b[0m\u001b[0;34m(\u001b[0m\u001b[0mstep\u001b[0m\u001b[0;34m)\u001b[0m\u001b[0;34m\u001b[0m\u001b[0;34m\u001b[0m\u001b[0m\n\u001b[0;32m--> 848\u001b[0;31m               \u001b[0mtmp_logs\u001b[0m \u001b[0;34m=\u001b[0m \u001b[0mtrain_function\u001b[0m\u001b[0;34m(\u001b[0m\u001b[0miterator\u001b[0m\u001b[0;34m)\u001b[0m\u001b[0;34m\u001b[0m\u001b[0;34m\u001b[0m\u001b[0m\n\u001b[0m\u001b[1;32m    849\u001b[0m               \u001b[0;31m# Catch OutOfRangeError for Datasets of unknown size.\u001b[0m\u001b[0;34m\u001b[0m\u001b[0;34m\u001b[0m\u001b[0;34m\u001b[0m\u001b[0m\n\u001b[1;32m    850\u001b[0m               \u001b[0;31m# This blocks until the batch has finished executing.\u001b[0m\u001b[0;34m\u001b[0m\u001b[0;34m\u001b[0m\u001b[0;34m\u001b[0m\u001b[0m\n",
      "\u001b[0;32m/opt/conda/lib/python3.7/site-packages/tensorflow/python/eager/def_function.py\u001b[0m in \u001b[0;36m__call__\u001b[0;34m(self, *args, **kwds)\u001b[0m\n\u001b[1;32m    578\u001b[0m         \u001b[0mxla_context\u001b[0m\u001b[0;34m.\u001b[0m\u001b[0mExit\u001b[0m\u001b[0;34m(\u001b[0m\u001b[0;34m)\u001b[0m\u001b[0;34m\u001b[0m\u001b[0;34m\u001b[0m\u001b[0m\n\u001b[1;32m    579\u001b[0m     \u001b[0;32melse\u001b[0m\u001b[0;34m:\u001b[0m\u001b[0;34m\u001b[0m\u001b[0;34m\u001b[0m\u001b[0m\n\u001b[0;32m--> 580\u001b[0;31m       \u001b[0mresult\u001b[0m \u001b[0;34m=\u001b[0m \u001b[0mself\u001b[0m\u001b[0;34m.\u001b[0m\u001b[0m_call\u001b[0m\u001b[0;34m(\u001b[0m\u001b[0;34m*\u001b[0m\u001b[0margs\u001b[0m\u001b[0;34m,\u001b[0m \u001b[0;34m**\u001b[0m\u001b[0mkwds\u001b[0m\u001b[0;34m)\u001b[0m\u001b[0;34m\u001b[0m\u001b[0;34m\u001b[0m\u001b[0m\n\u001b[0m\u001b[1;32m    581\u001b[0m \u001b[0;34m\u001b[0m\u001b[0m\n\u001b[1;32m    582\u001b[0m     \u001b[0;32mif\u001b[0m \u001b[0mtracing_count\u001b[0m \u001b[0;34m==\u001b[0m \u001b[0mself\u001b[0m\u001b[0;34m.\u001b[0m\u001b[0m_get_tracing_count\u001b[0m\u001b[0;34m(\u001b[0m\u001b[0;34m)\u001b[0m\u001b[0;34m:\u001b[0m\u001b[0;34m\u001b[0m\u001b[0;34m\u001b[0m\u001b[0m\n",
      "\u001b[0;32m/opt/conda/lib/python3.7/site-packages/tensorflow/python/eager/def_function.py\u001b[0m in \u001b[0;36m_call\u001b[0;34m(self, *args, **kwds)\u001b[0m\n\u001b[1;32m    609\u001b[0m       \u001b[0;31m# In this case we have created variables on the first call, so we run the\u001b[0m\u001b[0;34m\u001b[0m\u001b[0;34m\u001b[0m\u001b[0;34m\u001b[0m\u001b[0m\n\u001b[1;32m    610\u001b[0m       \u001b[0;31m# defunned version which is guaranteed to never create variables.\u001b[0m\u001b[0;34m\u001b[0m\u001b[0;34m\u001b[0m\u001b[0;34m\u001b[0m\u001b[0m\n\u001b[0;32m--> 611\u001b[0;31m       \u001b[0;32mreturn\u001b[0m \u001b[0mself\u001b[0m\u001b[0;34m.\u001b[0m\u001b[0m_stateless_fn\u001b[0m\u001b[0;34m(\u001b[0m\u001b[0;34m*\u001b[0m\u001b[0margs\u001b[0m\u001b[0;34m,\u001b[0m \u001b[0;34m**\u001b[0m\u001b[0mkwds\u001b[0m\u001b[0;34m)\u001b[0m  \u001b[0;31m# pylint: disable=not-callable\u001b[0m\u001b[0;34m\u001b[0m\u001b[0;34m\u001b[0m\u001b[0m\n\u001b[0m\u001b[1;32m    612\u001b[0m     \u001b[0;32melif\u001b[0m \u001b[0mself\u001b[0m\u001b[0;34m.\u001b[0m\u001b[0m_stateful_fn\u001b[0m \u001b[0;32mis\u001b[0m \u001b[0;32mnot\u001b[0m \u001b[0;32mNone\u001b[0m\u001b[0;34m:\u001b[0m\u001b[0;34m\u001b[0m\u001b[0;34m\u001b[0m\u001b[0m\n\u001b[1;32m    613\u001b[0m       \u001b[0;31m# Release the lock early so that multiple threads can perform the call\u001b[0m\u001b[0;34m\u001b[0m\u001b[0;34m\u001b[0m\u001b[0;34m\u001b[0m\u001b[0m\n",
      "\u001b[0;32m/opt/conda/lib/python3.7/site-packages/tensorflow/python/eager/function.py\u001b[0m in \u001b[0;36m__call__\u001b[0;34m(self, *args, **kwargs)\u001b[0m\n\u001b[1;32m   2418\u001b[0m     \u001b[0;32mwith\u001b[0m \u001b[0mself\u001b[0m\u001b[0;34m.\u001b[0m\u001b[0m_lock\u001b[0m\u001b[0;34m:\u001b[0m\u001b[0;34m\u001b[0m\u001b[0;34m\u001b[0m\u001b[0m\n\u001b[1;32m   2419\u001b[0m       \u001b[0mgraph_function\u001b[0m\u001b[0;34m,\u001b[0m \u001b[0margs\u001b[0m\u001b[0;34m,\u001b[0m \u001b[0mkwargs\u001b[0m \u001b[0;34m=\u001b[0m \u001b[0mself\u001b[0m\u001b[0;34m.\u001b[0m\u001b[0m_maybe_define_function\u001b[0m\u001b[0;34m(\u001b[0m\u001b[0margs\u001b[0m\u001b[0;34m,\u001b[0m \u001b[0mkwargs\u001b[0m\u001b[0;34m)\u001b[0m\u001b[0;34m\u001b[0m\u001b[0;34m\u001b[0m\u001b[0m\n\u001b[0;32m-> 2420\u001b[0;31m     \u001b[0;32mreturn\u001b[0m \u001b[0mgraph_function\u001b[0m\u001b[0;34m.\u001b[0m\u001b[0m_filtered_call\u001b[0m\u001b[0;34m(\u001b[0m\u001b[0margs\u001b[0m\u001b[0;34m,\u001b[0m \u001b[0mkwargs\u001b[0m\u001b[0;34m)\u001b[0m  \u001b[0;31m# pylint: disable=protected-access\u001b[0m\u001b[0;34m\u001b[0m\u001b[0;34m\u001b[0m\u001b[0m\n\u001b[0m\u001b[1;32m   2421\u001b[0m \u001b[0;34m\u001b[0m\u001b[0m\n\u001b[1;32m   2422\u001b[0m   \u001b[0;34m@\u001b[0m\u001b[0mproperty\u001b[0m\u001b[0;34m\u001b[0m\u001b[0;34m\u001b[0m\u001b[0m\n",
      "\u001b[0;32m/opt/conda/lib/python3.7/site-packages/tensorflow/python/eager/function.py\u001b[0m in \u001b[0;36m_filtered_call\u001b[0;34m(self, args, kwargs)\u001b[0m\n\u001b[1;32m   1663\u001b[0m          if isinstance(t, (ops.Tensor,\n\u001b[1;32m   1664\u001b[0m                            resource_variable_ops.BaseResourceVariable))),\n\u001b[0;32m-> 1665\u001b[0;31m         self.captured_inputs)\n\u001b[0m\u001b[1;32m   1666\u001b[0m \u001b[0;34m\u001b[0m\u001b[0m\n\u001b[1;32m   1667\u001b[0m   \u001b[0;32mdef\u001b[0m \u001b[0m_call_flat\u001b[0m\u001b[0;34m(\u001b[0m\u001b[0mself\u001b[0m\u001b[0;34m,\u001b[0m \u001b[0margs\u001b[0m\u001b[0;34m,\u001b[0m \u001b[0mcaptured_inputs\u001b[0m\u001b[0;34m,\u001b[0m \u001b[0mcancellation_manager\u001b[0m\u001b[0;34m=\u001b[0m\u001b[0;32mNone\u001b[0m\u001b[0;34m)\u001b[0m\u001b[0;34m:\u001b[0m\u001b[0;34m\u001b[0m\u001b[0;34m\u001b[0m\u001b[0m\n",
      "\u001b[0;32m/opt/conda/lib/python3.7/site-packages/tensorflow/python/eager/function.py\u001b[0m in \u001b[0;36m_call_flat\u001b[0;34m(self, args, captured_inputs, cancellation_manager)\u001b[0m\n\u001b[1;32m   1744\u001b[0m       \u001b[0;31m# No tape is watching; skip to running the function.\u001b[0m\u001b[0;34m\u001b[0m\u001b[0;34m\u001b[0m\u001b[0;34m\u001b[0m\u001b[0m\n\u001b[1;32m   1745\u001b[0m       return self._build_call_outputs(self._inference_function.call(\n\u001b[0;32m-> 1746\u001b[0;31m           ctx, args, cancellation_manager=cancellation_manager))\n\u001b[0m\u001b[1;32m   1747\u001b[0m     forward_backward = self._select_forward_and_backward_functions(\n\u001b[1;32m   1748\u001b[0m         \u001b[0margs\u001b[0m\u001b[0;34m,\u001b[0m\u001b[0;34m\u001b[0m\u001b[0;34m\u001b[0m\u001b[0m\n",
      "\u001b[0;32m/opt/conda/lib/python3.7/site-packages/tensorflow/python/eager/function.py\u001b[0m in \u001b[0;36mcall\u001b[0;34m(self, ctx, args, cancellation_manager)\u001b[0m\n\u001b[1;32m    596\u001b[0m               \u001b[0minputs\u001b[0m\u001b[0;34m=\u001b[0m\u001b[0margs\u001b[0m\u001b[0;34m,\u001b[0m\u001b[0;34m\u001b[0m\u001b[0;34m\u001b[0m\u001b[0m\n\u001b[1;32m    597\u001b[0m               \u001b[0mattrs\u001b[0m\u001b[0;34m=\u001b[0m\u001b[0mattrs\u001b[0m\u001b[0;34m,\u001b[0m\u001b[0;34m\u001b[0m\u001b[0;34m\u001b[0m\u001b[0m\n\u001b[0;32m--> 598\u001b[0;31m               ctx=ctx)\n\u001b[0m\u001b[1;32m    599\u001b[0m         \u001b[0;32melse\u001b[0m\u001b[0;34m:\u001b[0m\u001b[0;34m\u001b[0m\u001b[0;34m\u001b[0m\u001b[0m\n\u001b[1;32m    600\u001b[0m           outputs = execute.execute_with_cancellation(\n",
      "\u001b[0;32m/opt/conda/lib/python3.7/site-packages/tensorflow/python/eager/execute.py\u001b[0m in \u001b[0;36mquick_execute\u001b[0;34m(op_name, num_outputs, inputs, attrs, ctx, name)\u001b[0m\n\u001b[1;32m     58\u001b[0m     \u001b[0mctx\u001b[0m\u001b[0;34m.\u001b[0m\u001b[0mensure_initialized\u001b[0m\u001b[0;34m(\u001b[0m\u001b[0;34m)\u001b[0m\u001b[0;34m\u001b[0m\u001b[0;34m\u001b[0m\u001b[0m\n\u001b[1;32m     59\u001b[0m     tensors = pywrap_tfe.TFE_Py_Execute(ctx._handle, device_name, op_name,\n\u001b[0;32m---> 60\u001b[0;31m                                         inputs, attrs, num_outputs)\n\u001b[0m\u001b[1;32m     61\u001b[0m   \u001b[0;32mexcept\u001b[0m \u001b[0mcore\u001b[0m\u001b[0;34m.\u001b[0m\u001b[0m_NotOkStatusException\u001b[0m \u001b[0;32mas\u001b[0m \u001b[0me\u001b[0m\u001b[0;34m:\u001b[0m\u001b[0;34m\u001b[0m\u001b[0;34m\u001b[0m\u001b[0m\n\u001b[1;32m     62\u001b[0m     \u001b[0;32mif\u001b[0m \u001b[0mname\u001b[0m \u001b[0;32mis\u001b[0m \u001b[0;32mnot\u001b[0m \u001b[0;32mNone\u001b[0m\u001b[0;34m:\u001b[0m\u001b[0;34m\u001b[0m\u001b[0;34m\u001b[0m\u001b[0m\n",
      "\u001b[0;31mKeyboardInterrupt\u001b[0m: "
     ]
    }
   ],
   "source": [
    "model.fit(\n",
    "    SliceGenerator(img_dir=train_file_path, slice_size=frames, \n",
    "                    vars_=vars_, proc_type=proc_type,\n",
    "                    pixels_x=pixels_x, pixels_y=pixels_y, debug=False\n",
    "                    ),\n",
    "    steps_per_epoch = train_steps,\n",
    "    epochs = epochs,\n",
    "    verbose = 1,\n",
    "    shuffle = False,\n",
    "    callbacks=callbacks,\n",
    "    validation_steps = valid_steps,\n",
    "    validation_data = SliceGenerator(img_dir=valid_file_path, slice_size=frames,\n",
    "                                      vars_=vars_, proc_type=proc_type,\n",
    "                                      pixels_x=pixels_x, pixels_y=pixels_y, debug=False\n",
    "                                      ),\n",
    ")\n",
    "\n",
    "tf.keras.models.save_model(\n",
    "        model = model,\n",
    "        filepath = pwd+model_name+'.h5',\n",
    "        overwrite=True,\n",
    "        include_optimizer=True,\n",
    "        save_format='tf',\n",
    "        signatures=None\n",
    ")\n"
   ]
  },
  {
   "cell_type": "markdown",
   "metadata": {},
   "source": [
    "## Save the model\n",
    "Store history, save plot of loss"
   ]
  },
  {
   "cell_type": "code",
   "execution_count": 20,
   "metadata": {},
   "outputs": [],
   "source": [
    "tf.keras.models.save_model(\n",
    "        model = model,\n",
    "        filepath = pwd+model_name+'.h5',\n",
    "        overwrite=True,\n",
    "        include_optimizer=True,\n",
    "        save_format='tf',\n",
    "        signatures=None\n",
    ")"
   ]
  },
  {
   "cell_type": "markdown",
   "metadata": {},
   "source": [
    "## Store the history!"
   ]
  },
  {
   "cell_type": "code",
   "execution_count": 21,
   "metadata": {},
   "outputs": [],
   "source": [
    "model_history = model.history.history"
   ]
  },
  {
   "cell_type": "code",
   "execution_count": 22,
   "metadata": {},
   "outputs": [
    {
     "name": "stdout",
     "output_type": "stream",
     "text": [
      "model history:\n",
      "{'loss': [71.8046646118164],\n",
      " 'mean_absolute_error': [4.399630546569824],\n",
      " 'val_loss': [73.88187408447266],\n",
      " 'val_mean_absolute_error': [6.885571479797363]}\n",
      "Model history saved to: ../models/stack_single_input/stack_single_input_1F_hist.pkl\n"
     ]
    }
   ],
   "source": [
    "print(\"model history:\")\n",
    "pprint(model_history)\n",
    "pickle.dump(model_history, open(pwd+model_name+\"_hist.pkl\", \"wb\"))\n",
    "print(\"Model history saved to:\",pwd+model_name+\"_hist.pkl\")"
   ]
  },
  {
   "cell_type": "markdown",
   "metadata": {},
   "source": [
    "## Plot loss over epochs"
   ]
  },
  {
   "cell_type": "code",
   "execution_count": 23,
   "metadata": {},
   "outputs": [
    {
     "data": {
      "image/png": "[encoded data removed]",
      "text/plain": [
       "<Figure size 576x360 with 1 Axes>"
      ]
     },
     "metadata": {
      "needs_background": "light"
     },
     "output_type": "display_data"
    },
    {
     "data": {
      "text/plain": [
       "<Figure size 432x288 with 0 Axes>"
      ]
     },
     "metadata": {},
     "output_type": "display_data"
    }
   ],
   "source": [
    "import matplotlib.pyplot as plt\n",
    "\n",
    "train_loss = model_history[\"loss\"]\n",
    "val_loss = model_history[\"val_loss\"]\n",
    "plt.figure(figsize=(8, 5))\n",
    "plt.title(\"Training vs. Validation Loss\")\n",
    "plt.plot(train_loss, label=\"Training Loss\")\n",
    "plt.plot(val_loss, label=\"Validation Loss\")\n",
    "plt.xlabel(\"Number of Epochs\", size=14)\n",
    "plt.legend()\n",
    "plt.show()\n",
    "plt.savefig(pwd+model_name+\"_loss.png\",transparent=True, format=\"png\")"
   ]
  },
  {
   "cell_type": "markdown",
   "metadata": {},
   "source": [
    "## Visually Inspect Prediction"
   ]
  },
  {
   "cell_type": "code",
   "execution_count": 24,
   "metadata": {
    "ExecuteTime": {
     "end_time": "2020-06-15T16:06:20.106368Z",
     "start_time": "2020-06-15T16:06:19.874866Z"
    }
   },
   "outputs": [],
   "source": [
    "slice_val = SliceGenerator(img_dir=train_file_path, slice_size=frames, vars_=vars_,\n",
    "                     proc_type=proc_type, pixels_x=pixels_x, pixels_y=pixels_y, debug=False\n",
    "                     )"
   ]
  },
  {
   "cell_type": "code",
   "execution_count": 30,
   "metadata": {
    "ExecuteTime": {
     "end_time": "2020-06-15T15:56:54.502318Z",
     "start_time": "2020-06-15T15:56:54.472843Z"
    }
   },
   "outputs": [
    {
     "data": {
      "text/plain": [
       "array([[[[283.55396, 283.605  , 283.6125 , 282.72177, 283.09116,\n",
       "          282.4309 , 278.5678 , 275.39362, 273.51315, 275.51074,\n",
       "          279.59866, 279.74567, 277.39743, 275.67142, 272.14594,\n",
       "          268.67715, 267.82132, 266.7593 , 266.14017, 266.12396,\n",
       "          265.9639 ],\n",
       "         [283.57574, 283.51096, 283.84296, 283.44058, 283.50537,\n",
       "          284.45837, 282.4172 , 277.9057 , 273.10455, 275.79974,\n",
       "          279.2393 , 281.2549 , 280.12253, 279.40558, 276.76273,\n",
       "          272.84296, 269.2589 , 267.03836, 265.52103, 265.4874 ,\n",
       "          267.33112],\n",
       "         [283.6866 , 283.57574, 283.72772, 283.68848, 283.91895,\n",
       "          284.5792 , 282.58725, 279.28662, 275.8527 , 275.41357,\n",
       "          278.32364, 281.08298, 282.5424 , 282.16928, 280.60837,\n",
       "          278.08694, 273.40353, 268.9076 , 265.2725 , 263.9819 ,\n",
       "          263.212  ],\n",
       "         [283.69846, 283.6947 , 283.51907, 283.5776 , 283.57138,\n",
       "          282.5287 , 280.2689 , 278.11435, 277.23734, 276.47556,\n",
       "          278.56158, 280.8488 , 282.8937 , 282.3057 , 280.70428,\n",
       "          278.0776 , 276.9913 , 272.51657, 268.3196 , 265.27872,\n",
       "          265.0227 ],\n",
       "         [283.62433, 283.70032, 283.54398, 283.63803, 283.2612 ,\n",
       "          282.1126 , 281.06927, 280.10446, 278.99512, 279.28226,\n",
       "          279.19443, 280.86063, 282.3742 , 282.68878, 281.04   ,\n",
       "          278.67307, 278.61453, 274.97754, 270.8703 , 266.1632 ,\n",
       "          265.1828 ],\n",
       "         [283.60065, 283.6592 , 283.57138, 283.68848, 283.30792,\n",
       "          283.26868, 282.2945 , 281.44052, 281.48163, 279.70456,\n",
       "          279.89954, 280.60648, 281.55576, 281.89212, 280.96402,\n",
       "          278.86865, 280.13995, 277.94867, 273.8022 , 267.02652,\n",
       "          264.1924 ],\n",
       "         [283.5988 , 283.70654, 283.7651 , 283.83923, 283.82553,\n",
       "          284.00928, 283.25934, 282.37982, 282.16306, 281.50903,\n",
       "          280.1904 , 280.89987, 280.7454 , 281.0207 , 280.08887,\n",
       "          279.78616, 279.6865 , 277.62228, 275.3687 , 269.24707,\n",
       "          265.8686 ],\n",
       "         [283.5795 , 283.6318 , 283.84296, 283.85294, 283.8137 ,\n",
       "          283.9937 , 284.013  , 283.2724 , 282.76102, 284.36868,\n",
       "          282.9429 , 280.93848, 281.15524, 281.78247, 281.90955,\n",
       "          281.3801 , 279.06735, 277.773  , 276.85303, 272.6162 ,\n",
       "          268.0929 ],\n",
       "         [283.57574, 283.6206 , 283.88034, 284.08713, 283.98187,\n",
       "          284.00305, 283.9345 , 283.8274 , 283.75513, 284.34128,\n",
       "          282.83142, 280.83508, 281.53833, 282.50504, 282.66324,\n",
       "          281.48972, 279.3022 , 278.35104, 277.47403, 276.40146,\n",
       "          271.90176],\n",
       "         [283.67914, 283.76074, 283.96817, 284.132  , 284.1494 ,\n",
       "          283.98935, 283.90152, 283.94263, 284.25903, 283.39572,\n",
       "          282.47388, 280.9329 , 279.1421 , 280.18292, 279.9369 ,\n",
       "          279.85095, 279.7706 , 279.31152, 279.1751 , 278.42517,\n",
       "          275.92868],\n",
       "         [283.70218, 283.88593, 284.1164 , 284.24533, 284.1712 ,\n",
       "          283.90152, 283.77444, 283.8037 , 284.03418, 283.57138,\n",
       "          283.09116, 282.18674, 280.43085, 277.8353 , 277.34885,\n",
       "          278.3037 , 280.12253, 280.2334 , 279.38626, 278.56967,\n",
       "          278.181  ],\n",
       "         [283.93265, 284.00305, 284.1494 , 284.21045, 284.07156,\n",
       "          283.94077, 283.87222, 283.88782, 284.00116, 283.61063,\n",
       "          283.8685 , 283.37457, 280.5523 , 278.7628 , 278.2632 ,\n",
       "          278.87054, 280.29443, 280.4545 , 279.95993, 279.9232 ,\n",
       "          281.22562],\n",
       "         [284.00928, 284.0834 , 284.14755, 284.1575 , 283.97998,\n",
       "          283.97375, 283.87848, 283.85107, 284.02298, 284.04788,\n",
       "          283.8822 , 283.32162, 283.70407, 281.5439 , 280.3293 ,\n",
       "          280.04218, 281.75882, 281.21442, 280.76907, 280.64572,\n",
       "          279.6479 ],\n",
       "         [284.1575 , 284.14008, 284.16934, 284.089  , 283.94635,\n",
       "          283.96194, 283.94263, 283.94263, 284.00305, 284.09088,\n",
       "          284.17682, 284.51068, 284.64584, 282.06964, 280.03656,\n",
       "          279.6479 , 279.2785 , 280.51492, 280.21222, 280.50308,\n",
       "          280.49313],\n",
       "         [284.26465, 284.23538, 284.1457 , 284.05786, 283.9719 ,\n",
       "          283.87598, 283.87222, 283.9507 , 284.0423 , 284.07715,\n",
       "          284.36432, 284.68884, 283.9445 , 280.42523, 279.2181 ,\n",
       "          280.50497, 278.77087, 279.5283 , 280.13995, 280.53424,\n",
       "          281.32156],\n",
       "         [284.3531 , 284.29642, 284.2061 , 284.1108 , 284.04788,\n",
       "          283.9308 , 283.90152, 283.97998, 284.04974, 284.0753 ,\n",
       "          284.36057, 284.65768, 284.1594 , 281.0537 , 281.60495,\n",
       "          282.87253, 279.80795, 278.95834, 279.5968 , 281.11227,\n",
       "          281.57944],\n",
       "         [284.42908, 284.37427, 284.2765 , 284.17868, 284.1301 ,\n",
       "          284.02048, 283.9912 , 283.9993 , 284.03046, 284.09274,\n",
       "          284.1183 , 284.41537, 285.02643, 283.84482, 284.39795,\n",
       "          284.01862, 280.9466 , 279.7276 , 279.04993, 280.5716 ,\n",
       "          282.65576],\n",
       "         [284.50696, 284.47208, 284.3724 , 284.30762, 284.24722,\n",
       "          284.1357 , 284.10458, 284.11453, 284.0541 , 284.22977,\n",
       "          284.19864, 284.23975, 285.1242 , 284.7393 , 285.06006,\n",
       "          284.5381 , 283.1167 , 280.82947, 279.64603, 279.6516 ,\n",
       "          283.6673 ],\n",
       "         [284.62405, 284.56985, 284.51068, 284.46024, 284.47766,\n",
       "          284.33502, 284.3039 , 284.30576, 284.1868 , 284.421  ,\n",
       "          284.5655 , 284.65582, 284.77664, 285.1479 , 285.22202,\n",
       "          285.38022, 286.62598, 281.8155 , 280.6694 , 280.78836,\n",
       "          281.9326 ],\n",
       "         [284.74924, 284.70627, 284.6714 , 284.66702, 284.6851 ,\n",
       "          284.56738, 284.5381 , 284.5443 , 284.56177, 284.56985,\n",
       "          284.84705, 285.0987 , 285.0775 , 285.19647, 285.47366,\n",
       "          285.73776, 285.75146, 285.085  , 284.58542, 283.468  ,\n",
       "          280.62018],\n",
       "         [284.8975 , 284.81964, 284.85452, 284.92676, 284.94235,\n",
       "          284.96042, 284.91556, 284.91928, 285.10864, 285.09122,\n",
       "          285.20456, 285.3335 , 285.4095 , 285.45062, 285.52286,\n",
       "          285.7334 , 286.22983, 285.80814, 285.56958, 284.8078 ,\n",
       "          282.68066]]]], dtype=float32)"
      ]
     },
     "execution_count": 30,
     "metadata": {},
     "output_type": "execute_result"
    }
   ],
   "source": [
    "in_, out_ = next(slice_val)\n",
    "in_"
   ]
  },
  {
   "cell_type": "code",
   "execution_count": 31,
   "metadata": {},
   "outputs": [
    {
     "name": "stdout",
     "output_type": "stream",
     "text": [
      "1/1 [==============================] - 0s 15ms/step\n"
     ]
    },
    {
     "data": {
      "text/plain": [
       "array([[[[[286.14886, 286.14886, 286.14886, 286.14886, 286.14886,\n",
       "           286.14886, 286.14886, 286.14886, 286.14886, 286.14886,\n",
       "           286.14886, 286.14886, 286.14886, 286.14886, 286.14886,\n",
       "           286.14886, 286.14886, 286.14886, 286.14886, 286.14886,\n",
       "           286.14886],\n",
       "          [286.14886, 286.14886, 286.14886, 286.14886, 286.14886,\n",
       "           286.14886, 286.14886, 286.14886, 286.14886, 286.14886,\n",
       "           286.14886, 286.14886, 286.14886, 286.14886, 286.14886,\n",
       "           286.14886, 286.14886, 286.14886, 286.14886, 286.14886,\n",
       "           286.14886],\n",
       "          [286.14886, 286.14886, 286.14886, 286.14886, 286.14886,\n",
       "           286.14886, 286.14886, 286.14886, 286.14886, 286.14886,\n",
       "           286.14886, 286.14886, 286.14886, 286.14886, 286.14886,\n",
       "           286.14886, 286.14886, 286.14886, 286.14886, 286.14886,\n",
       "           286.14886],\n",
       "          [286.14886, 286.14886, 286.14886, 286.14886, 286.14886,\n",
       "           286.14886, 286.14886, 286.14886, 286.14886, 286.14886,\n",
       "           286.14886, 286.14886, 286.14886, 286.14886, 286.14886,\n",
       "           286.14886, 286.14886, 286.14886, 286.14886, 286.14886,\n",
       "           286.14886],\n",
       "          [286.14886, 286.14886, 286.14886, 286.14886, 286.14886,\n",
       "           286.14886, 286.14886, 286.14886, 286.14886, 286.14886,\n",
       "           286.14886, 286.14886, 286.14886, 286.14886, 286.14886,\n",
       "           286.14886, 286.14886, 286.14886, 286.14886, 286.14886,\n",
       "           286.14886],\n",
       "          [286.14886, 286.14886, 286.14886, 286.14886, 286.14886,\n",
       "           286.14886, 286.14886, 286.14886, 286.14886, 286.14886,\n",
       "           286.14886, 286.14886, 286.14886, 286.14886, 286.14886,\n",
       "           286.14886, 286.14886, 286.14886, 286.14886, 286.14886,\n",
       "           286.14886],\n",
       "          [286.14886, 286.14886, 286.14886, 286.14886, 286.14886,\n",
       "           286.14886, 286.14886, 286.14886, 286.14886, 286.14886,\n",
       "           286.14886, 286.14886, 286.14886, 286.14886, 286.14886,\n",
       "           286.14886, 286.14886, 286.14886, 286.14886, 286.14886,\n",
       "           286.14886],\n",
       "          [286.14886, 286.14886, 286.14886, 286.14886, 286.14886,\n",
       "           286.14886, 286.14886, 286.14886, 286.14886, 286.14886,\n",
       "           286.14886, 286.14886, 286.14886, 286.14886, 286.14886,\n",
       "           286.14886, 286.14886, 286.14886, 286.14886, 286.14886,\n",
       "           286.14886],\n",
       "          [286.14886, 286.14886, 286.14886, 286.14886, 286.14886,\n",
       "           286.14886, 286.14886, 286.14886, 286.14886, 286.14886,\n",
       "           286.14886, 286.14886, 286.14886, 286.14886, 286.14886,\n",
       "           286.14886, 286.14886, 286.14886, 286.14886, 286.14886,\n",
       "           286.14886],\n",
       "          [286.14886, 286.14886, 286.14886, 286.14886, 286.14886,\n",
       "           286.14886, 286.14886, 286.14886, 286.14886, 286.14886,\n",
       "           286.14886, 286.14886, 286.14886, 286.14886, 286.14886,\n",
       "           286.14886, 286.14886, 286.14886, 286.14886, 286.14886,\n",
       "           286.14886],\n",
       "          [286.14886, 286.14886, 286.14886, 286.14886, 286.14886,\n",
       "           286.14886, 286.14886, 286.14886, 286.14886, 286.14886,\n",
       "           286.14886, 286.14886, 286.14886, 286.14886, 286.14886,\n",
       "           286.14886, 286.14886, 286.14886, 286.14886, 286.14886,\n",
       "           286.14886],\n",
       "          [286.14886, 286.14886, 286.14886, 286.14886, 286.14886,\n",
       "           286.14886, 286.14886, 286.14886, 286.14886, 286.14886,\n",
       "           286.14886, 286.14886, 286.14886, 286.14886, 286.14886,\n",
       "           286.14886, 286.14886, 286.14886, 286.14886, 286.14886,\n",
       "           286.14886],\n",
       "          [286.14886, 286.14886, 286.14886, 286.14886, 286.14886,\n",
       "           286.14886, 286.14886, 286.14886, 286.14886, 286.14886,\n",
       "           286.14886, 286.14886, 286.14886, 286.14886, 286.14886,\n",
       "           286.14886, 286.14886, 286.14886, 286.14886, 286.14886,\n",
       "           286.14886],\n",
       "          [286.14886, 286.14886, 286.14886, 286.14886, 286.14886,\n",
       "           286.14886, 286.14886, 286.14886, 286.14886, 286.14886,\n",
       "           286.14886, 286.14886, 286.14886, 286.14886, 286.14886,\n",
       "           286.14886, 286.14886, 286.14886, 286.14886, 286.14886,\n",
       "           286.14886],\n",
       "          [286.14886, 286.14886, 286.14886, 286.14886, 286.14886,\n",
       "           286.14886, 286.14886, 286.14886, 286.14886, 286.14886,\n",
       "           286.14886, 286.14886, 286.14886, 286.14886, 286.14886,\n",
       "           286.14886, 286.14886, 286.14886, 286.14886, 286.14886,\n",
       "           286.14886],\n",
       "          [286.14886, 286.14886, 286.14886, 286.14886, 286.14886,\n",
       "           286.14886, 286.14886, 286.14886, 286.14886, 286.14886,\n",
       "           286.14886, 286.14886, 286.14886, 286.14886, 286.14886,\n",
       "           286.14886, 286.14886, 286.14886, 286.14886, 286.14886,\n",
       "           286.14886],\n",
       "          [286.14886, 286.14886, 286.14886, 286.14886, 286.14886,\n",
       "           286.14886, 286.14886, 286.14886, 286.14886, 286.14886,\n",
       "           286.14886, 286.14886, 286.14886, 286.14886, 286.14886,\n",
       "           286.14886, 286.14886, 286.14886, 286.14886, 286.14886,\n",
       "           286.14886],\n",
       "          [286.14886, 286.14886, 286.14886, 286.14886, 286.14886,\n",
       "           286.14886, 286.14886, 286.14886, 286.14886, 286.14886,\n",
       "           286.14886, 286.14886, 286.14886, 286.14886, 286.14886,\n",
       "           286.14886, 286.14886, 286.14886, 286.14886, 286.14886,\n",
       "           286.14886],\n",
       "          [286.14886, 286.14886, 286.14886, 286.14886, 286.14886,\n",
       "           286.14886, 286.14886, 286.14886, 286.14886, 286.14886,\n",
       "           286.14886, 286.14886, 286.14886, 286.14886, 286.14886,\n",
       "           286.14886, 286.14886, 286.14886, 286.14886, 286.14886,\n",
       "           286.14886],\n",
       "          [286.14886, 286.14886, 286.14886, 286.14886, 286.14886,\n",
       "           286.14886, 286.14886, 286.14886, 286.14886, 286.14886,\n",
       "           286.14886, 286.14886, 286.14886, 286.14886, 286.14886,\n",
       "           286.14886, 286.14886, 286.14886, 286.14886, 286.14886,\n",
       "           286.14886],\n",
       "          [286.14886, 286.14886, 286.14886, 286.14886, 286.14886,\n",
       "           286.14886, 286.14886, 286.14886, 286.14886, 286.14886,\n",
       "           286.14886, 286.14886, 286.14886, 286.14886, 286.14886,\n",
       "           286.14886, 286.14886, 286.14886, 286.14886, 286.14886,\n",
       "           286.14886]]]]], dtype=float32)"
      ]
     },
     "execution_count": 31,
     "metadata": {},
     "output_type": "execute_result"
    }
   ],
   "source": [
    "test_pred= model.predict(in_, verbose=1)\n",
    "test_pred"
   ]
  },
  {
   "cell_type": "code",
   "execution_count": null,
   "metadata": {},
   "outputs": [],
   "source": []
  }
 ],
 "metadata": {
  "environment": {
   "name": "tf2-2-2-gpu.2-2.m48",
   "type": "gcloud",
   "uri": "gcr.io/deeplearning-platform-release/tf2-2-2-gpu.2-2:m48"
  },
  "kernelspec": {
   "display_name": "Python 3",
   "language": "python",
   "name": "python3"
  },
  "language_info": {
   "codemirror_mode": {
    "name": "ipython",
    "version": 3
   },
   "file_extension": ".py",
   "mimetype": "text/x-python",
   "name": "python",
   "nbconvert_exporter": "python",
   "pygments_lexer": "ipython3",
   "version": "3.7.6"
  },
  "toc": {
   "base_numbering": 1,
   "nav_menu": {},
   "number_sections": true,
   "sideBar": true,
   "skip_h1_title": false,
   "title_cell": "Table of Contents",
   "title_sidebar": "Contents",
   "toc_cell": false,
   "toc_position": {},
   "toc_section_display": true,
   "toc_window_display": false
  },
  "varInspector": {
   "cols": {
    "lenName": 16,
    "lenType": 16,
    "lenVar": 40
   },
   "kernels_config": {
    "python": {
     "delete_cmd_postfix": "",
     "delete_cmd_prefix": "del ",
     "library": "var_list.py",
     "varRefreshCmd": "print(var_dic_list())"
    },
    "r": {
     "delete_cmd_postfix": ") ",
     "delete_cmd_prefix": "rm(",
     "library": "var_list.r",
     "varRefreshCmd": "cat(var_dic_list()) "
    }
   },
   "types_to_exclude": [
    "module",
    "function",
    "builtin_function_or_method",
    "instance",
    "_Feature"
   ],
   "window_display": false
  }
 },
 "nbformat": 4,
 "nbformat_minor": 4
}
