{
 "cells": [
  {
   "cell_type": "markdown",
   "metadata": {},
   "source": [
    "# Training Time"
   ]
  },
  {
   "cell_type": "code",
   "execution_count": 1,
   "metadata": {
    "ExecuteTime": {
     "end_time": "2020-06-15T16:06:12.076539Z",
     "start_time": "2020-06-15T16:06:12.047621Z"
    }
   },
   "outputs": [],
   "source": [
    "import glob\n",
    "from pprint import pprint\n",
    "import pickle\n",
    "\n",
    "import numpy as np\n",
    "import tensorflow as tf\n",
    "from tensorflow import keras\n",
    "from tensorflow.keras import layers\n",
    "\n",
    "from slice_generator import slice_generator"
   ]
  },
  {
   "cell_type": "code",
   "execution_count": 2,
   "metadata": {
    "ExecuteTime": {
     "end_time": "2020-06-15T16:06:13.284414Z",
     "start_time": "2020-06-15T16:06:13.277779Z"
    }
   },
   "outputs": [
    {
     "name": "stdout",
     "output_type": "stream",
     "text": [
      "tensorflow version: 2.2.0-dlenv\n"
     ]
    }
   ],
   "source": [
    "print(\"tensorflow version:\",tf.__version__)"
   ]
  },
  {
   "cell_type": "markdown",
   "metadata": {},
   "source": [
    "## Model variables"
   ]
  },
  {
   "cell_type": "code",
   "execution_count": 3,
   "metadata": {
    "ExecuteTime": {
     "end_time": "2020-06-15T16:06:15.516904Z",
     "start_time": "2020-06-15T16:06:15.505686Z"
    }
   },
   "outputs": [],
   "source": [
    "frames = 1\n",
    "channels = 1\n",
    "pixels_x = 21\n",
    "pixels_y = 21"
   ]
  },
  {
   "cell_type": "markdown",
   "metadata": {},
   "source": [
    "## Load the model"
   ]
  },
  {
   "cell_type": "code",
   "execution_count": 4,
   "metadata": {
    "ExecuteTime": {
     "end_time": "2020-06-15T16:06:17.551021Z",
     "start_time": "2020-06-15T16:06:17.527128Z"
    }
   },
   "outputs": [
    {
     "name": "stdout",
     "output_type": "stream",
     "text": [
      "['../models/full_stack_1f_1c_21x_21y.h5',\n",
      " '../models/t_full_stack_1f_1c_21x_21y.h5']\n"
     ]
    }
   ],
   "source": [
    "model_dir = \"../models/\"\n",
    "models_list = sorted(glob.glob(model_dir+\"*.h5\"))\n",
    "pprint(models_list)"
   ]
  },
  {
   "cell_type": "code",
   "execution_count": 5,
   "metadata": {
    "ExecuteTime": {
     "end_time": "2020-06-15T16:06:17.789615Z",
     "start_time": "2020-06-15T16:06:17.784870Z"
    }
   },
   "outputs": [],
   "source": [
    "# choose a model\n",
    "file_index = 1\n",
    "models_list[file_index]\n",
    "model_name = 'full_stack_1f_1c_21x_21y' # todo: use regex to parse filename"
   ]
  },
  {
   "cell_type": "code",
   "execution_count": 6,
   "metadata": {
    "ExecuteTime": {
     "end_time": "2020-06-15T16:06:19.257528Z",
     "start_time": "2020-06-15T16:06:18.129906Z"
    }
   },
   "outputs": [
    {
     "name": "stdout",
     "output_type": "stream",
     "text": [
      "Model: \"Full_stack\"\n",
      "__________________________________________________________________________________________________\n",
      "Layer (type)                    Output Shape         Param #     Connected to                     \n",
      "==================================================================================================\n",
      "model_input (InputLayer)        [(None, 2, 1, 21, 21 0                                            \n",
      "__________________________________________________________________________________________________\n",
      "tf_op_layer_unstack_1 (TensorFl [(None, 1, 21, 21),  0           model_input[0][0]                \n",
      "__________________________________________________________________________________________________\n",
      "gaussian_noise_1 (GaussianNoise (None, 1, 21, 21)    0           tf_op_layer_unstack_1[0][0]      \n",
      "__________________________________________________________________________________________________\n",
      "convB1 (Conv2D)                 (None, 8, 9, 9)      208         tf_op_layer_unstack_1[0][1]      \n",
      "__________________________________________________________________________________________________\n",
      "convA1 (Conv2D)                 (None, 8, 9, 9)      208         gaussian_noise_1[0][0]           \n",
      "__________________________________________________________________________________________________\n",
      "convB1_bn (BatchNormalization)  (None, 8, 9, 9)      32          convB1[0][0]                     \n",
      "__________________________________________________________________________________________________\n",
      "convA1_bn (BatchNormalization)  (None, 8, 9, 9)      32          convA1[0][0]                     \n",
      "__________________________________________________________________________________________________\n",
      "convA2 (Conv2D)                 (None, 16, 7, 7)     1168        convA1_bn[0][0]                  \n",
      "                                                                 convB1_bn[0][0]                  \n",
      "__________________________________________________________________________________________________\n",
      "convB2_bn (BatchNormalization)  (None, 16, 7, 7)     64          convA2[1][0]                     \n",
      "__________________________________________________________________________________________________\n",
      "convA2_bn (BatchNormalization)  (None, 16, 7, 7)     64          convA2[0][0]                     \n",
      "__________________________________________________________________________________________________\n",
      "convB3 (Conv2D)                 (None, 16, 3, 3)     2320        convB2_bn[0][0]                  \n",
      "__________________________________________________________________________________________________\n",
      "convA3 (Conv2D)                 (None, 16, 3, 3)     2320        convA2_bn[0][0]                  \n",
      "__________________________________________________________________________________________________\n",
      "convA3_bn (BatchNormalization)  (None, 16, 3, 3)     64          convA3[0][0]                     \n",
      "                                                                 convB3[0][0]                     \n",
      "__________________________________________________________________________________________________\n",
      "tf_op_layer_ExpandDims (TensorF (1, None, 16, 3, 3)  0           convA3_bn[0][0]                  \n",
      "__________________________________________________________________________________________________\n",
      "tf_op_layer_ExpandDims_1 (Tenso (1, None, 16, 3, 3)  0           convA3_bn[1][0]                  \n",
      "__________________________________________________________________________________________________\n",
      "encoder1 (ConvLSTM2D)           [(1, None, 16, 3, 3) 51264       tf_op_layer_ExpandDims[0][0]     \n",
      "__________________________________________________________________________________________________\n",
      "decoder1 (ConvLSTM2D)           [(1, None, 16, 3, 3) 51264       tf_op_layer_ExpandDims_1[0][0]   \n",
      "                                                                 encoder1[0][1]                   \n",
      "                                                                 encoder1[0][2]                   \n",
      "__________________________________________________________________________________________________\n",
      "tf_op_layer_Reshape (TensorFlow (None, 16, 3, 3)     0           decoder1[0][0]                   \n",
      "__________________________________________________________________________________________________\n",
      "deconv1 (Conv2DTranspose)       (None, 16, 7, 7)     2320        tf_op_layer_Reshape[0][0]        \n",
      "__________________________________________________________________________________________________\n",
      "deconv1_bn (BatchNormalization) (None, 16, 7, 7)     64          deconv1[0][0]                    \n",
      "__________________________________________________________________________________________________\n",
      "deconv2 (Conv2DTranspose)       (None, 8, 9, 9)      1160        deconv1_bn[0][0]                 \n",
      "__________________________________________________________________________________________________\n",
      "deconv2_bn (BatchNormalization) (None, 8, 9, 9)      32          deconv2[0][0]                    \n",
      "__________________________________________________________________________________________________\n",
      "deconv3 (Conv2DTranspose)       (None, 1, 21, 21)    201         deconv2_bn[0][0]                 \n",
      "__________________________________________________________________________________________________\n",
      "deconv3_bn (BatchNormalization) (None, 1, 21, 21)    4           deconv3[0][0]                    \n",
      "__________________________________________________________________________________________________\n",
      "tf_op_layer_ExpandDims_2 (Tenso (1, None, 1, 21, 21) 0           deconv3_bn[0][0]                 \n",
      "==================================================================================================\n",
      "Total params: 112,789\n",
      "Trainable params: 112,611\n",
      "Non-trainable params: 178\n",
      "__________________________________________________________________________________________________\n"
     ]
    }
   ],
   "source": [
    "model = tf.keras.models.load_model(models_list[file_index])\n",
    "model.summary()"
   ]
  },
  {
   "cell_type": "markdown",
   "metadata": {},
   "source": [
    "## Check model history"
   ]
  },
  {
   "cell_type": "code",
   "execution_count": 7,
   "metadata": {},
   "outputs": [],
   "source": [
    "model.history"
   ]
  },
  {
   "cell_type": "markdown",
   "metadata": {},
   "source": [
    "## Prepare for training"
   ]
  },
  {
   "cell_type": "code",
   "execution_count": 8,
   "metadata": {
    "ExecuteTime": {
     "end_time": "2020-06-15T16:06:19.687719Z",
     "start_time": "2020-06-15T16:06:19.677223Z"
    }
   },
   "outputs": [],
   "source": [
    "train_file_path = \"../data/train\"\n",
    "valid_file_path = \"../data/validate\"\n",
    "vars_           = ['t2m']\n",
    "proc_type       = \"convlstm\"\n",
    "# 3 years of training data = \n",
    "train_steps = 3 * 365 * 24 / frames\n",
    "# 1 year of validation data = \n",
    "valid_steps = 1 * 365 * 24 / frames"
   ]
  },
  {
   "cell_type": "markdown",
   "metadata": {},
   "source": [
    "## Train"
   ]
  },
  {
   "cell_type": "code",
   "execution_count": 10,
   "metadata": {
    "ExecuteTime": {
     "end_time": "2020-06-15T16:06:20.382027Z",
     "start_time": "2020-06-15T16:06:20.373946Z"
    }
   },
   "outputs": [],
   "source": [
    "epochs = 8"
   ]
  },
  {
   "cell_type": "code",
   "execution_count": 12,
   "metadata": {
    "ExecuteTime": {
     "end_time": "2020-06-15T16:06:21.086974Z",
     "start_time": "2020-06-15T16:06:20.731688Z"
    }
   },
   "outputs": [
    {
     "name": "stdout",
     "output_type": "stream",
     "text": [
      "Epoch 1/8\n",
      "26280/26280 [==============================] - 4381s 167ms/step - loss: 1693.7787 - accuracy: 0.0156 - mean_absolute_error: 150.7167 - val_loss: 56639.9492 - val_accuracy: 0.0192 - val_mean_absolute_error: 104.8054\n",
      "Epoch 2/8\n",
      "26280/26280 [==============================] - 4220s 161ms/step - loss: 151.5739 - accuracy: 0.0159 - mean_absolute_error: 59.3573 - val_loss: 389165.9375 - val_accuracy: 0.0235 - val_mean_absolute_error: 13.8141\n",
      "Epoch 3/8\n",
      "26280/26280 [==============================] - 4090s 156ms/step - loss: 9.2587 - accuracy: 0.1809 - mean_absolute_error: 4.1898 - val_loss: 1.5211 - val_accuracy: 0.1131 - val_mean_absolute_error: 4.2496\n",
      "Epoch 4/8\n",
      "26280/26280 [==============================] - 4146s 158ms/step - loss: 1.3110 - accuracy: 0.1502 - mean_absolute_error: 3.6587 - val_loss: 1.6960 - val_accuracy: 0.1041 - val_mean_absolute_error: 4.7892\n",
      "Epoch 5/8\n",
      "26280/26280 [==============================] - 4066s 155ms/step - loss: 1.2770 - accuracy: 0.1337 - mean_absolute_error: 3.6665 - val_loss: 1.4850 - val_accuracy: 0.1085 - val_mean_absolute_error: 4.2825\n",
      "Epoch 6/8\n",
      "26280/26280 [==============================] - 3979s 151ms/step - loss: 1.2694 - accuracy: 0.1339 - mean_absolute_error: 3.6665 - val_loss: 1.4701 - val_accuracy: 0.1131 - val_mean_absolute_error: 4.2438\n",
      "Epoch 7/8\n",
      "26280/26280 [==============================] - 4002s 152ms/step - loss: 1.2686 - accuracy: 0.1339 - mean_absolute_error: 3.6671 - val_loss: 1.4693 - val_accuracy: 0.1131 - val_mean_absolute_error: 4.2430\n",
      "Epoch 8/8\n",
      "26280/26280 [==============================] - 4413s 168ms/step - loss: 1.2682 - accuracy: 0.1337 - mean_absolute_error: 3.6673 - val_loss: 1.4690 - val_accuracy: 0.1131 - val_mean_absolute_error: 4.2428\n"
     ]
    }
   ],
   "source": [
    "model.fit(\n",
    "    slice_generator(img_dir=train_file_path, slice_size=frames, \n",
    "                    vars_=vars_, proc_type=proc_type,\n",
    "                    pixels_x=pixels_x, pixels_y=pixels_y, debug=False\n",
    "                    ),\n",
    "    steps_per_epoch = train_steps,\n",
    "    epochs = epochs,\n",
    "    verbose = 1,\n",
    "    shuffle = False,\n",
    "    initial_epoch = 0,\n",
    "    validation_steps = valid_steps,\n",
    "    validation_data = slice_generator(img_dir=valid_file_path, slice_size=frames,\n",
    "                                      vars_=vars_, proc_type=proc_type,\n",
    "                                      pixels_x=pixels_x, pixels_y=pixels_y, debug=False\n",
    "                                      ),\n",
    ")\n",
    "\n",
    "tf.keras.models.save_model(\n",
    "        model = model,\n",
    "        filepath = '../models/t_'+model_name+'.h5',\n",
    "        overwrite=True,\n",
    "        include_optimizer=True,\n",
    "        save_format='tf',\n",
    "        signatures=None\n",
    ")\n"
   ]
  },
  {
   "cell_type": "markdown",
   "metadata": {},
   "source": [
    "## get training and validation loss"
   ]
  },
  {
   "cell_type": "code",
   "execution_count": 21,
   "metadata": {},
   "outputs": [
    {
     "data": {
      "text/plain": [
       "{'loss': [1693.7786865234375,\n",
       "  151.57391357421875,\n",
       "  9.25869369506836,\n",
       "  1.3110136985778809,\n",
       "  1.2769964933395386,\n",
       "  1.2693883180618286,\n",
       "  1.2686151266098022,\n",
       "  1.2681891918182373],\n",
       " 'accuracy': [0.015561354346573353,\n",
       "  0.015905631706118584,\n",
       "  0.1809016466140747,\n",
       "  0.15021562576293945,\n",
       "  0.13372653722763062,\n",
       "  0.1338932365179062,\n",
       "  0.13390591740608215,\n",
       "  0.1337084174156189],\n",
       " 'mean_absolute_error': [150.7167205810547,\n",
       "  59.357295989990234,\n",
       "  4.1898345947265625,\n",
       "  3.658730983734131,\n",
       "  3.6664934158325195,\n",
       "  3.6664674282073975,\n",
       "  3.6671292781829834,\n",
       "  3.6672863960266113],\n",
       " 'val_loss': [56639.94921875,\n",
       "  389165.9375,\n",
       "  1.521070957183838,\n",
       "  1.6959989070892334,\n",
       "  1.4849776029586792,\n",
       "  1.4700580835342407,\n",
       "  1.4693400859832764,\n",
       "  1.4689908027648926],\n",
       " 'val_accuracy': [0.019188953563570976,\n",
       "  0.023456186056137085,\n",
       "  0.11307892948389053,\n",
       "  0.10407153517007828,\n",
       "  0.10852359235286713,\n",
       "  0.11307892948389053,\n",
       "  0.11307892948389053,\n",
       "  0.11307892948389053],\n",
       " 'val_mean_absolute_error': [104.80542755126953,\n",
       "  13.814112663269043,\n",
       "  4.249613285064697,\n",
       "  4.789227485656738,\n",
       "  4.2824788093566895,\n",
       "  4.243759632110596,\n",
       "  4.242982864379883,\n",
       "  4.2427802085876465]}"
      ]
     },
     "execution_count": 21,
     "metadata": {},
     "output_type": "execute_result"
    }
   ],
   "source": [
    "model.history.history"
   ]
  },
  {
   "cell_type": "markdown",
   "metadata": {},
   "source": [
    "## Visually Inspect Prediction"
   ]
  },
  {
   "cell_type": "code",
   "execution_count": null,
   "metadata": {
    "ExecuteTime": {
     "end_time": "2020-06-15T16:06:20.106368Z",
     "start_time": "2020-06-15T16:06:19.874866Z"
    }
   },
   "outputs": [],
   "source": [
    "slice_train = slice_generator(img_dir=train_file_path, slice_size=frames, vars_=vars_,\n",
    "                     proc_type=proc_type, pixels_x=pixels_x, pixels_y=pixels_y, debug=False\n",
    "                     )\n",
    "slice_val = slice_generator(img_dir=valid_file_path, slice_size=frames, vars_=vars_,\n",
    "                     proc_type=proc_type, pixels_x=pixels_x, pixels_y=pixels_y, debug=False\n",
    "                     )"
   ]
  },
  {
   "cell_type": "code",
   "execution_count": null,
   "metadata": {
    "ExecuteTime": {
     "end_time": "2020-06-15T15:56:54.502318Z",
     "start_time": "2020-06-15T15:56:54.472843Z"
    }
   },
   "outputs": [],
   "source": [
    "in_, out_ = next(slice_train)\n",
    "in_.shape"
   ]
  },
  {
   "cell_type": "code",
   "execution_count": null,
   "metadata": {},
   "outputs": [],
   "source": [
    "test_pred= model.predict(in_, verbose=1)\n",
    "test_pred"
   ]
  },
  {
   "cell_type": "code",
   "execution_count": null,
   "metadata": {},
   "outputs": [],
   "source": []
  }
 ],
 "metadata": {
  "environment": {
   "name": "tf2-2-2-gpu.2-2.m48",
   "type": "gcloud",
   "uri": "gcr.io/deeplearning-platform-release/tf2-2-2-gpu.2-2:m48"
  },
  "kernelspec": {
   "display_name": "Python 3",
   "language": "python",
   "name": "python3"
  },
  "language_info": {
   "codemirror_mode": {
    "name": "ipython",
    "version": 3
   },
   "file_extension": ".py",
   "mimetype": "text/x-python",
   "name": "python",
   "nbconvert_exporter": "python",
   "pygments_lexer": "ipython3",
   "version": "3.7.6"
  },
  "toc": {
   "base_numbering": 1,
   "nav_menu": {},
   "number_sections": true,
   "sideBar": true,
   "skip_h1_title": false,
   "title_cell": "Table of Contents",
   "title_sidebar": "Contents",
   "toc_cell": false,
   "toc_position": {},
   "toc_section_display": true,
   "toc_window_display": false
  },
  "varInspector": {
   "cols": {
    "lenName": 16,
    "lenType": 16,
    "lenVar": 40
   },
   "kernels_config": {
    "python": {
     "delete_cmd_postfix": "",
     "delete_cmd_prefix": "del ",
     "library": "var_list.py",
     "varRefreshCmd": "print(var_dic_list())"
    },
    "r": {
     "delete_cmd_postfix": ") ",
     "delete_cmd_prefix": "rm(",
     "library": "var_list.r",
     "varRefreshCmd": "cat(var_dic_list()) "
    }
   },
   "types_to_exclude": [
    "module",
    "function",
    "builtin_function_or_method",
    "instance",
    "_Feature"
   ],
   "window_display": false
  }
 },
 "nbformat": 4,
 "nbformat_minor": 4
}
