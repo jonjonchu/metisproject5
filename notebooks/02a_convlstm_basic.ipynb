{
 "cells": [
  {
   "cell_type": "markdown",
   "metadata": {},
   "source": [
    "# ConvLSTM basic stack"
   ]
  },
  {
   "cell_type": "code",
   "execution_count": 1,
   "metadata": {},
   "outputs": [],
   "source": [
    "import numpy as np\n",
    "\n",
    "import tensorflow as tf\n",
    "from tensorflow import keras\n",
    "from tensorflow.keras import layers"
   ]
  },
  {
   "cell_type": "code",
   "execution_count": 2,
   "metadata": {},
   "outputs": [
    {
     "name": "stdout",
     "output_type": "stream",
     "text": [
      "tensorflow version: 2.2.0-dlenv\n"
     ]
    }
   ],
   "source": [
    "print(\"tensorflow version:\",tf.__version__)"
   ]
  },
  {
   "cell_type": "markdown",
   "metadata": {},
   "source": [
    "## Input dimension variables"
   ]
  },
  {
   "cell_type": "code",
   "execution_count": 3,
   "metadata": {},
   "outputs": [],
   "source": [
    "frames = 1\n",
    "channels = 1\n",
    "pixels_x = 21\n",
    "pixels_y = 21"
   ]
  },
  {
   "cell_type": "markdown",
   "metadata": {},
   "source": [
    "## Define the model"
   ]
  },
  {
   "cell_type": "code",
   "execution_count": 4,
   "metadata": {},
   "outputs": [
    {
     "name": "stdout",
     "output_type": "stream",
     "text": [
      "convlstm_1f_1c_21x_21y\n"
     ]
    }
   ],
   "source": [
    "model_name = 'convlstm_'+str(frames)+'f_'+str(channels)+'c_'+str(pixels_x)+'x_'+str(pixels_y)+'y'\n",
    "print(model_name)"
   ]
  },
  {
   "cell_type": "code",
   "execution_count": 5,
   "metadata": {},
   "outputs": [
    {
     "name": "stdout",
     "output_type": "stream",
     "text": [
      "Model: \"convlstm_1f_1c_21x_21y\"\n",
      "_________________________________________________________________\n",
      "Layer (type)                 Output Shape              Param #   \n",
      "=================================================================\n",
      "conv_lst_m2d (ConvLSTM2D)    (None, 1, 4, 21, 21)      2016      \n",
      "_________________________________________________________________\n",
      "batch_normalization (BatchNo (None, 1, 4, 21, 21)      4         \n",
      "_________________________________________________________________\n",
      "conv_lst_m2d_1 (ConvLSTM2D)  (None, 1, 2, 21, 21)      440       \n",
      "_________________________________________________________________\n",
      "batch_normalization_1 (Batch (None, 1, 2, 21, 21)      4         \n",
      "_________________________________________________________________\n",
      "conv_lst_m2d_2 (ConvLSTM2D)  (None, 1, 1, 21, 21)      16        \n",
      "_________________________________________________________________\n",
      "batch_normalization_2 (Batch (None, 1, 1, 21, 21)      4         \n",
      "=================================================================\n",
      "Total params: 2,484\n",
      "Trainable params: 2,478\n",
      "Non-trainable params: 6\n",
      "_________________________________________________________________\n"
     ]
    }
   ],
   "source": [
    "model = tf.keras.Sequential(name=model_name)\n",
    "model.add(layers.InputLayer(input_shape=(frames, channels, pixels_x, pixels_y)))\n",
    "model.add(layers.ConvLSTM2D(filters=channels*4,\n",
    "                            kernel_size=(5,5),\n",
    "                            padding='same',\n",
    "                            data_format='channels_first',\n",
    "                            return_sequences=True))\n",
    "model.add(layers.BatchNormalization(axis=1, ))\n",
    "model.add(layers.ConvLSTM2D(filters=channels*2,\n",
    "                            kernel_size=(3,3),\n",
    "                            padding='same',\n",
    "                            data_format='channels_first',\n",
    "                            return_sequences=True))\n",
    "model.add(layers.BatchNormalization(axis=1, ))\n",
    "model.add(layers.ConvLSTM2D(filters=channels,\n",
    "                            kernel_size=(1,1),\n",
    "                            padding='same',\n",
    "                            data_format='channels_first',\n",
    "                            return_sequences=True))\n",
    "model.add(layers.BatchNormalization(axis=1, ))\n",
    "\n",
    "model.compile(loss='categorical_crossentropy',\n",
    "                  optimizer='adadelta',\n",
    "                  metrics=['mean_absolute_error'])\n",
    "model.summary()"
   ]
  },
  {
   "cell_type": "markdown",
   "metadata": {},
   "source": [
    "## Pickle the model"
   ]
  },
  {
   "cell_type": "code",
   "execution_count": 21,
   "metadata": {},
   "outputs": [],
   "source": [
    "tf.keras.models.save_model(\n",
    "    model = model,\n",
    "    filepath = '../models/'+model_name+'.h5',\n",
    "    overwrite=True,\n",
    "    include_optimizer=True,\n",
    "    save_format='tf',\n",
    "    signatures=None\n",
    ")"
   ]
  },
  {
   "cell_type": "code",
   "execution_count": null,
   "metadata": {},
   "outputs": [],
   "source": []
  }
 ],
 "metadata": {
  "environment": {
   "name": "tf2-2-2-gpu.2-2.m48",
   "type": "gcloud",
   "uri": "gcr.io/deeplearning-platform-release/tf2-2-2-gpu.2-2:m48"
  },
  "kernelspec": {
   "display_name": "Python 3",
   "language": "python",
   "name": "python3"
  },
  "language_info": {
   "codemirror_mode": {
    "name": "ipython",
    "version": 3
   },
   "file_extension": ".py",
   "mimetype": "text/x-python",
   "name": "python",
   "nbconvert_exporter": "python",
   "pygments_lexer": "ipython3",
   "version": "3.7.6"
  }
 },
 "nbformat": 4,
 "nbformat_minor": 4
}
