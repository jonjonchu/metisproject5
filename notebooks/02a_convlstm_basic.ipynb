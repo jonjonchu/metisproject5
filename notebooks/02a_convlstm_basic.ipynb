{
 "cells": [
  {
   "cell_type": "markdown",
   "metadata": {},
   "source": [
    "# ConvLSTM basic stack"
   ]
  },
  {
   "cell_type": "code",
   "execution_count": 1,
   "metadata": {},
   "outputs": [],
   "source": [
    "import numpy as np\n",
    "\n",
    "import tensorflow as tf\n",
    "from tensorflow import keras\n",
    "from tensorflow.keras import layers"
   ]
  },
  {
   "cell_type": "code",
   "execution_count": 2,
   "metadata": {},
   "outputs": [
    {
     "name": "stdout",
     "output_type": "stream",
     "text": [
      "tensorflow version: 2.2.0-dlenv\n"
     ]
    }
   ],
   "source": [
    "print(\"tensorflow version:\",tf.__version__)"
   ]
  },
  {
   "cell_type": "markdown",
   "metadata": {},
   "source": [
    "## Input dimension variables"
   ]
  },
  {
   "cell_type": "code",
   "execution_count": 6,
   "metadata": {},
   "outputs": [],
   "source": [
    "frames = 24\n",
    "channels = 1\n",
    "pixels_x = 21\n",
    "pixels_y = 21"
   ]
  },
  {
   "cell_type": "markdown",
   "metadata": {},
   "source": [
    "## Define the model"
   ]
  },
  {
   "cell_type": "code",
   "execution_count": 7,
   "metadata": {},
   "outputs": [
    {
     "name": "stdout",
     "output_type": "stream",
     "text": [
      "convstack_24f_1c_21x_21y\n"
     ]
    }
   ],
   "source": [
    "model_name = 'convstack_'+str(frames)+'f_'+str(channels)+'c_'+str(pixels_x)+'x_'+str(pixels_y)+'y'\n",
    "print(model_name)"
   ]
  },
  {
   "cell_type": "code",
   "execution_count": 21,
   "metadata": {},
   "outputs": [
    {
     "name": "stdout",
     "output_type": "stream",
     "text": [
      "Model: \"convstack_24f_1c_21x_21y\"\n",
      "_________________________________________________________________\n",
      "Layer (type)                 Output Shape              Param #   \n",
      "=================================================================\n",
      "conv2d_29 (Conv2D)           (None, 32, 11, 11)        832       \n",
      "_________________________________________________________________\n",
      "batch_normalization_27 (Batc (None, 32, 11, 11)        128       \n",
      "_________________________________________________________________\n",
      "conv2d_30 (Conv2D)           (None, 64, 11, 11)        18496     \n",
      "_________________________________________________________________\n",
      "batch_normalization_28 (Batc (None, 64, 11, 11)        256       \n",
      "_________________________________________________________________\n",
      "conv2d_31 (Conv2D)           (None, 64, 6, 6)          36928     \n",
      "_________________________________________________________________\n",
      "batch_normalization_29 (Batc (None, 64, 6, 6)          256       \n",
      "=================================================================\n",
      "Total params: 56,896\n",
      "Trainable params: 56,576\n",
      "Non-trainable params: 320\n",
      "_________________________________________________________________\n"
     ]
    }
   ],
   "source": [
    "filters=[32, 64, 64]\n",
    "kernel_sizes = [(5,5), (3,3), (3,3)]\n",
    "strides=[(2,2),(1,1),(2,2)]\n",
    "model = tf.keras.Sequential(name=model_name)\n",
    "model.add(layers.InputLayer(input_shape=(channels, pixels_x, pixels_y)))\n",
    "model.add(layers.Conv2D(filters=filters[0],\n",
    "                        kernel_size=kernel_sizes[0],\n",
    "                        strides=strides[0],\n",
    "                        padding='same',\n",
    "                        activation='relu',\n",
    "                        data_format='channels_first',\n",
    "                        ))\n",
    "model.add(layers.BatchNormalization(axis=1, ))\n",
    "model.add(layers.Conv2D(filters=filters[1],\n",
    "                        kernel_size=kernel_sizes[1],\n",
    "                        strides=strides[1],\n",
    "                        padding='same',\n",
    "                        activation='relu',\n",
    "                        data_format='channels_first',\n",
    "                        ))\n",
    "model.add(layers.BatchNormalization(axis=1, ))\n",
    "model.add(layers.Conv2D(filters=filters[2],\n",
    "                        kernel_size=kernel_sizes[2],\n",
    "                        strides=strides[2],\n",
    "                        padding='same',\n",
    "                        activation='relu',\n",
    "                        data_format='channels_first',\n",
    "                        ))\n",
    "\n",
    "model.add(layers.BatchNormalization(axis=1, ))\n",
    "\n",
    "model.compile(loss='categorical_crossentropy',\n",
    "                  optimizer='adadelta',\n",
    "                  metrics=['mean_absolute_error'])\n",
    "model.summary()"
   ]
  },
  {
   "cell_type": "markdown",
   "metadata": {},
   "source": [
    "## Pickle the model"
   ]
  },
  {
   "cell_type": "code",
   "execution_count": 6,
   "metadata": {},
   "outputs": [],
   "source": [
    "tf.keras.models.save_model(\n",
    "    model = model,\n",
    "    filepath = '../models/'+model_name+'.h5',\n",
    "    overwrite=True,\n",
    "    include_optimizer=True,\n",
    "    save_format='tf',\n",
    "    signatures=None\n",
    ")"
   ]
  },
  {
   "cell_type": "code",
   "execution_count": null,
   "metadata": {},
   "outputs": [],
   "source": []
  }
 ],
 "metadata": {
  "environment": {
   "name": "tf2-2-2-gpu.2-2.m48",
   "type": "gcloud",
   "uri": "gcr.io/deeplearning-platform-release/tf2-2-2-gpu.2-2:m48"
  },
  "kernelspec": {
   "display_name": "Python 3",
   "language": "python",
   "name": "python3"
  },
  "language_info": {
   "codemirror_mode": {
    "name": "ipython",
    "version": 3
   },
   "file_extension": ".py",
   "mimetype": "text/x-python",
   "name": "python",
   "nbconvert_exporter": "python",
   "pygments_lexer": "ipython3",
   "version": "3.7.6"
  }
 },
 "nbformat": 4,
 "nbformat_minor": 4
}
